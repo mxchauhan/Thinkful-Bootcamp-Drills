{
  "nbformat": 4,
  "nbformat_minor": 0,
  "metadata": {
    "colab": {
      "name": "Unit 1 - Am I Biased?.ipynb",
      "version": "0.3.2",
      "provenance": [],
      "include_colab_link": true
    },
    "kernelspec": {
      "name": "python3",
      "display_name": "Python 3"
    }
  },
  "cells": [
    {
      "cell_type": "markdown",
      "metadata": {
        "id": "view-in-github",
        "colab_type": "text"
      },
      "source": [
        "[View in Colaboratory](https://colab.research.google.com/github/mxchauhan/Thinkful-Bootcamp-Drills/blob/master/Unit_1_Am_I_Biased%3F.ipynb)"
      ]
    },
    {
      "metadata": {
        "id": "BHtt-Vl7e_53",
        "colab_type": "text"
      },
      "cell_type": "markdown",
      "source": [
        "**You're testing advertising emails for a bathing suit company and you test one version of the email in February and the other in May.**\n",
        ">\n",
        "A potential bias may be caused by the month in which the versions are tested.  There may be more demand for bathing suits in May than Feburary as May is warmer month, approaching summer, than February, when it is colder, particularly in the northern hemisphere.\n",
        "This type of bias is called **seasonality**."
      ]
    },
    {
      "metadata": {
        "id": "zTwoIV-Lfs3y",
        "colab_type": "text"
      },
      "cell_type": "markdown",
      "source": [
        "**You open a clinic to treat anxiety and find that the people who visit show a higher rate of anxiety than the general population.**\n",
        ">\n",
        "A potential bias is that you are only measuring anxiety within the context of those who visit the anxiety clinic.  It is expected that those who are visiting would generally have a higher anxiety rate as that is their suspicion for coming to the clinic. **Selection bias**"
      ]
    },
    {
      "metadata": {
        "id": "wYkkYWtHftFR",
        "colab_type": "text"
      },
      "cell_type": "markdown",
      "source": [
        "**You launch a new ad billboard based campaign and see an increase in website visits in the first week.**\n",
        ">\n",
        "A potential bias is the length of time the website visits are monitored.  Changes in website visits should be monitored for a greater period of time to determine the effectiveness of the ad campaign."
      ]
    },
    {
      "metadata": {
        "id": "StplI3NsftUC",
        "colab_type": "text"
      },
      "cell_type": "markdown",
      "source": [
        "**You launch a loyalty program but see no change in visits in the first week.**\n",
        ">\n",
        "A potential bias is the length of time the visits are monitored.  Changes in visits should be monitored for a greater period of time to determine the effectiveness of the loyality program.\n",
        "\n",
        "*In marketing, when the sample has become sufficiently large to perform a study it's called \"crossing the chasm\"* A mention of the Law of Large Numbers and the Central Limit Theorem would make the argument about the relatively small size of the time period stronger (considering each day as a separate sample). "
      ]
    },
    {
      "metadata": {
        "id": "2lB8VGh1iAmf",
        "colab_type": "text"
      },
      "cell_type": "markdown",
      "source": [
        ""
      ]
    }
  ]
}