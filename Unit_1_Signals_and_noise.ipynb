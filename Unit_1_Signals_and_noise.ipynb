{
  "nbformat": 4,
  "nbformat_minor": 0,
  "metadata": {
    "colab": {
      "name": "Unit 1 - Signals and noise.ipynb",
      "version": "0.3.2",
      "provenance": [],
      "include_colab_link": true
    },
    "kernelspec": {
      "name": "python3",
      "display_name": "Python 3"
    }
  },
  "cells": [
    {
      "cell_type": "markdown",
      "metadata": {
        "id": "view-in-github",
        "colab_type": "text"
      },
      "source": [
        "[View in Colaboratory](https://colab.research.google.com/github/mxchauhan/Thinkful-Bootcamp-Drills/blob/master/Unit_1_Signals_and_noise.ipynb)"
      ]
    },
    {
      "metadata": {
        "id": "ecSFYp0i5_9h",
        "colab_type": "text"
      },
      "cell_type": "markdown",
      "source": [
        "1. $\\bar{y_1}= 5$, $\\bar{y_2}= 8$, $s_1= 1$, $s_2= 3$, $N_1= 200$, $N_2= 500$"
      ]
    },
    {
      "metadata": {
        "id": "9zVbOq1n6kV6",
        "colab_type": "code",
        "colab": {}
      },
      "cell_type": "code",
      "source": [
        "import numpy as np\n",
        "from scipy.stats import ttest_ind"
      ],
      "execution_count": 0,
      "outputs": []
    },
    {
      "metadata": {
        "id": "5bsiHJLC5-h8",
        "colab_type": "code",
        "colab": {
          "base_uri": "https://localhost:8080/",
          "height": 34
        },
        "outputId": "c65a0890-c881-4949-e35a-8ddfeeb92f81"
      },
      "cell_type": "code",
      "source": [
        "np.random.seed(0)\n",
        "samp1 = np.random.normal(5, 1, 200)\n",
        "samp2 = np.random.normal(8, 3, 500)\n",
        "\n",
        "print(ttest_ind(samp1, samp2, equal_var=False))"
      ],
      "execution_count": 20,
      "outputs": [
        {
          "output_type": "stream",
          "text": [
            "Ttest_indResult(statistic=-16.925703947190286, pvalue=5.630870216825051e-54)\n"
          ],
          "name": "stdout"
        }
      ]
    },
    {
      "metadata": {
        "id": "95T-_2506JkR",
        "colab_type": "text"
      },
      "cell_type": "markdown",
      "source": [
        "2. $\\bar{y_1}= 1090$, $\\bar{y_2}= 999$, $s_1= 400$, $s_2= 30$, $N_1= 900$, $N_2= 100$"
      ]
    },
    {
      "metadata": {
        "id": "zQCUspas6KSg",
        "colab_type": "code",
        "colab": {
          "base_uri": "https://localhost:8080/",
          "height": 34
        },
        "outputId": "acc79910-5b49-4b83-c1ed-0296b815791b"
      },
      "cell_type": "code",
      "source": [
        "np.random.seed(0)\n",
        "samp1 = np.random.normal(1090, 400, 900)\n",
        "samp2 = np.random.normal(999, 30, 100)\n",
        "\n",
        "print(ttest_ind(samp1, samp2, equal_var=False))"
      ],
      "execution_count": 21,
      "outputs": [
        {
          "output_type": "stream",
          "text": [
            "Ttest_indResult(statistic=4.347077546496975, pvalue=1.5259800200496103e-05)\n"
          ],
          "name": "stdout"
        }
      ]
    },
    {
      "metadata": {
        "id": "ng4spztH6K_Z",
        "colab_type": "text"
      },
      "cell_type": "markdown",
      "source": [
        "3. $\\bar{y_1}= 45$, $\\bar{y_2}= 40$, $s_1= 45$, $s_2= 40$, $N_1= 2000$, $N_2= 2000$"
      ]
    },
    {
      "metadata": {
        "id": "ZKiH78-E6OGQ",
        "colab_type": "code",
        "colab": {
          "base_uri": "https://localhost:8080/",
          "height": 34
        },
        "outputId": "b5ecba36-55f0-4ab9-d737-3beaefd2e817"
      },
      "cell_type": "code",
      "source": [
        "np.random.seed(0)\n",
        "samp1 = np.random.normal(45, 45, 2000)\n",
        "samp2 = np.random.normal(40, 40, 2000)\n",
        "\n",
        "print(ttest_ind(samp1, samp2, equal_var=False))"
      ],
      "execution_count": 22,
      "outputs": [
        {
          "output_type": "stream",
          "text": [
            "Ttest_indResult(statistic=4.306605492743994, pvalue=1.6980552783228964e-05)\n"
          ],
          "name": "stdout"
        }
      ]
    },
    {
      "metadata": {
        "id": "eDOoBytpMSus",
        "colab_type": "text"
      },
      "cell_type": "markdown",
      "source": [
        "**ART's comment: Awesome, you simulated the samples and used the two tailed t-test correctly.** \n",
        "\n",
        "An analytic solution, plugging the variables into the t value equation \n",
        "\n",
        "$$t = \\frac{\\bar{y_1}-\\bar{y_2}}{\\sqrt{s^2_1/N_1+s^2_2/N_2}}$$\n",
        "\n",
        "\n",
        "would be:"
      ]
    },
    {
      "metadata": {
        "id": "BKAJwQPpM8MX",
        "colab_type": "code",
        "colab": {
          "base_uri": "https://localhost:8080/",
          "height": 68
        },
        "outputId": "960dbb03-d6b3-4bc3-a1c8-97a2c7c71739"
      },
      "cell_type": "code",
      "source": [
        "import math\n",
        "\n",
        "def tvalue(y1, y2, s1, s2, N1, N2):\n",
        "  return (y1 - y2) / math.sqrt( (s1**2/N1) + (s2**2/N2) )\n",
        "\n",
        "#1 \n",
        "y1 = 5\n",
        "y2 = 8\n",
        "s1 = 1\n",
        "s2 = 3\n",
        "N1 = 200\n",
        "N2 = 500\n",
        "\n",
        "print(tvalue(y1, y2, s1, s2, N1, N2))\n",
        "\n",
        "#2 \n",
        "y1 = 1090\n",
        "y2 = 999\n",
        "s1 = 400 \n",
        "s2 = 30 \n",
        "N1 = 900\n",
        "N2 = 100\n",
        "\n",
        "print(tvalue(y1, y2, s1, s2, N1, N2))\n",
        "\n",
        "#3 \n",
        "y1 = 45\n",
        "y2 = 40 \n",
        "s1 = 45\n",
        "s2 = 40\n",
        "N1 = 2000\n",
        "N2 = 2000\n",
        "\n",
        "print(tvalue(y1, y2, s1, s2, N1, N2))\n",
        "\n"
      ],
      "execution_count": 17,
      "outputs": [
        {
          "output_type": "stream",
          "text": [
            "-19.78141420187361\n",
            "6.658536585365854\n",
            "3.7139067635410377\n"
          ],
          "name": "stdout"
        }
      ]
    },
    {
      "metadata": {
        "id": "l-Ep_e1fNRuO",
        "colab_type": "text"
      },
      "cell_type": "markdown",
      "source": [
        "Q: Why does the analytic solution differ from the sampled solution?\n",
        ">\n",
        "I believe it is because we are creating a randomized sample using the np.random.normal.  Each time this is run, the results will be slightly different unless np.random.seed is used."
      ]
    },
    {
      "metadata": {
        "id": "gAHLC51LTJV3",
        "colab_type": "code",
        "colab": {}
      },
      "cell_type": "code",
      "source": [
        ""
      ],
      "execution_count": 0,
      "outputs": []
    }
  ]
}