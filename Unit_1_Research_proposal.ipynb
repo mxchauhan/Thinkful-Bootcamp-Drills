{
  "nbformat": 4,
  "nbformat_minor": 0,
  "metadata": {
    "colab": {
      "name": "Unit 1 - Research proposal.ipynb",
      "version": "0.3.2",
      "provenance": [],
      "collapsed_sections": [],
      "include_colab_link": true
    },
    "kernelspec": {
      "name": "python3",
      "display_name": "Python 3"
    }
  },
  "cells": [
    {
      "cell_type": "markdown",
      "metadata": {
        "id": "view-in-github",
        "colab_type": "text"
      },
      "source": [
        "[View in Colaboratory](https://colab.research.google.com/github/mxchauhan/Thinkful-Bootcamp-Drills/blob/master/Unit_1_Research_proposal.ipynb)"
      ]
    },
    {
      "metadata": {
        "id": "kQPPiGTrOQtS",
        "colab_type": "text"
      },
      "cell_type": "markdown",
      "source": [
        "**In the past, the Jedi have had difficulty with public relations. They send two envoys, Jar Jar Binks and Mace Windu, to four friendly and four unfriendly planets respectively, with the goal of promoting favorable feelings toward the Jedi. Upon their return, the envoys learn that Jar Jar was much more effective than Windu: Over 75% of the people surveyed said their attitudes had become more favorable after speaking with Jar Jar, while only 65% said their attitudes had become more favorable after speaking with Windu. This makes Windu angry, because he is sure that he had a better success rate than Jar Jar on every planet. The Jedi choose Jar Jar to be their representative in the future.**"
      ]
    },
    {
      "metadata": {
        "id": "lBTiZCWCL2bW",
        "colab_type": "text"
      },
      "cell_type": "markdown",
      "source": [
        "**PROBLEM**\n",
        ">\n",
        "How can the Jedi improve their public relations with other planets?  It is important to increase favorable feelings towards the Jedi to gain support and allies, especially in times of conflict.  The Jedi currently do not have a dedicated individual to represent them favorably."
      ]
    },
    {
      "metadata": {
        "id": "O-VE4LCzQjIB",
        "colab_type": "text"
      },
      "cell_type": "markdown",
      "source": [
        "**HYPOTHESIS**\n",
        ">\n",
        "Selecting a representative will increase favorable feelings towards the Jedi."
      ]
    },
    {
      "metadata": {
        "id": "QwWaqkPQS_Q5",
        "colab_type": "text"
      },
      "cell_type": "markdown",
      "source": [
        "**DESIGN/ANALYSIS/BENCHMARKS**\n",
        ">\n",
        "A random sample will be taken from four friendly and four unfriendly planets.  This will then be split into two groups, with equal represenations of each planet in each group.  One group will be assigned to Jar Jar Binks, while the other will be assigned to Mace Windu.  The envoys will promote favorable feelings towards the Jedi to thier respective groups.  The variable of interest is the representative (Jar Jar and Windu) which are sent.\n",
        ">\n",
        "The groups will be surveyed to assess their attitudes towards the Jedi after speaking with the envoys.  The survery results will then be aggregated to determine whose attitude changed to become more favorable after speaking with the representatives.  The average of the results will be calculated among the groups, and whether there is a real difference among the groups will be determined.\n",
        ">\n",
        "A t-test can be done to ensure that there is a real difference between the survey results of those who were spoken to by Jar Jar compared to those who were spoken to by Windu.  If there is a real difference between the two groups, then then the envoy whose group had a higher average survey result will be selected as the respresentative."
      ]
    }
  ]
}