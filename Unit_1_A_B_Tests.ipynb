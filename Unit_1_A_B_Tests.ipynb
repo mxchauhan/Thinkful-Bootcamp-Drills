{
  "nbformat": 4,
  "nbformat_minor": 0,
  "metadata": {
    "colab": {
      "name": "Unit 1 - A/B Tests.ipynb",
      "version": "0.3.2",
      "provenance": [],
      "collapsed_sections": [],
      "include_colab_link": true
    },
    "kernelspec": {
      "name": "python3",
      "display_name": "Python 3"
    }
  },
  "cells": [
    {
      "cell_type": "markdown",
      "metadata": {
        "id": "view-in-github",
        "colab_type": "text"
      },
      "source": [
        "[View in Colaboratory](https://colab.research.google.com/github/mxchauhan/Thinkful-Bootcamp-Drills/blob/master/Unit_1_A_B_Tests.ipynb)"
      ]
    },
    {
      "metadata": {
        "id": "NUBwZJkgLhRc",
        "colab_type": "text"
      },
      "cell_type": "markdown",
      "source": [
        "**1) Does a new supplement help people sleep better?**"
      ]
    },
    {
      "metadata": {
        "id": "027oR_t9Ll91",
        "colab_type": "text"
      },
      "cell_type": "markdown",
      "source": [
        "Two Versions: The control group can receive a placebo of the supplement, while the test group can receive the actual supplement which is to be tested.\n",
        ">\n",
        "Sample: The sample can be randomly selected from a population who has sleep difficulties, and who have the desire to sleep better using a supplement.  The sample should be split to ensure there are no differences between the control group and test group.\n",
        ">\n",
        "Hypothesis: The supplement will help people sleep better - those who take the supplement will stay asleep longer than those with a placebo.\n",
        ">\n",
        "Outcome(s): Length of time subject stays asleep throughout night without waking\n",
        ">\n",
        "Other measured variables: age, gender, factors defining sleep difficulty (*define this quantitatively*), amount of deep sleep, amount of REM sleep (this could be a boolean variable too)."
      ]
    },
    {
      "metadata": {
        "id": "DKlcV-X7TD29",
        "colab_type": "text"
      },
      "cell_type": "markdown",
      "source": [
        "**2) Will new uniforms help a gym's business?**"
      ]
    },
    {
      "metadata": {
        "id": "Xskom4wsTLo2",
        "colab_type": "text"
      },
      "cell_type": "markdown",
      "source": [
        "Two Versions: The control group will be the time period during which the original uniforms are worn, while the test group will be the period when the new uniforms are worn.\n",
        ">\n",
        "Sample: Visitors during the first half of the experiment period will see the original uniform, while visitors during the second half of the experiment will see the new uniform.\n",
        ">\n",
        "Hypothesis: The new uniforms will help the gym's business - the gym's revenue (gym subscriptions) will increase as a result of the new uniforms compared to the old uniforms.\n",
        ">\n",
        "Outcome(s): Gym revenue (number of new gym subscriptions - number of gym subscription anulled)\n",
        ">\n",
        "Other measured variables: visitor age, visitor gender, number of visitors, other purchases made while at gym"
      ]
    },
    {
      "metadata": {
        "id": "9YwhVODxTj5e",
        "colab_type": "text"
      },
      "cell_type": "markdown",
      "source": [
        "**3) Will a new homepage improve my online exotic pet rental business?**"
      ]
    },
    {
      "metadata": {
        "id": "96xN3qV3TL7u",
        "colab_type": "text"
      },
      "cell_type": "markdown",
      "source": [
        "Two Versions: Control group will see orignal homepage, test group will see new homepage\n",
        ">\n",
        "Sample: Visitors during the first half of the experiment period will see the original homepage, while visitors during the second half of the experiment will see the new homepage. *An explanation of randomization of the test subjects would be appropriate here*\n",
        ">\n",
        "Hypothesis: The new homepage will increase revenue (number of sales) compared to the old homepage.\n",
        ">\n",
        "Outcome(s): The exotic pet rental business revenue.\n",
        ">\n",
        "Other measured variables: page visits, amount of time of each session"
      ]
    },
    {
      "metadata": {
        "id": "ZRond6jyTp-2",
        "colab_type": "text"
      },
      "cell_type": "markdown",
      "source": [
        "**4) If I put 'please read' in the email subject will more people read my emails?**"
      ]
    },
    {
      "metadata": {
        "id": "xGGBdMuYTcvG",
        "colab_type": "text"
      },
      "cell_type": "markdown",
      "source": [
        "Two Versions: Control group will not have 'please read', test group will have 'please read' in subject line.\n",
        ">\n",
        "Sample: Groups of intended recipients will be randomly selected and split into two groups, ensuring there are no differences between the groups.\n",
        ">\n",
        "Hypothesis: The number of e-mails read with 'please read' in the subject line will be greater than the number of e-mails read without it.\n",
        ">\n",
        "Outcome(s): Number of read e-mails\n",
        ">\n",
        "Other measured variables: recipient age, recipient gender"
      ]
    }
  ]
}