{
  "nbformat": 4,
  "nbformat_minor": 0,
  "metadata": {
    "colab": {
      "name": "Unit 1 - Evaluate an experiment analysis.ipynb",
      "version": "0.3.2",
      "provenance": [],
      "collapsed_sections": [],
      "include_colab_link": true
    },
    "kernelspec": {
      "name": "python3",
      "display_name": "Python 3"
    }
  },
  "cells": [
    {
      "cell_type": "markdown",
      "metadata": {
        "id": "view-in-github",
        "colab_type": "text"
      },
      "source": [
        "[View in Colaboratory](https://colab.research.google.com/github/mxchauhan/Thinkful-Bootcamp-Drills/blob/master/Unit_1_Evaluate_an_experiment_analysis.ipynb)"
      ]
    },
    {
      "metadata": {
        "id": "CvgiKie-gpZK",
        "colab_type": "text"
      },
      "cell_type": "markdown",
      "source": [
        "**1) The Sith Lords are concerned that their recruiting slogan, \"Give In to Your Anger,\" isn't very effective. Darth Vader develops an alternative slogan, \"Together We Can Rule the Galaxy.\" They compare the slogans on two groups of 50 captured droids each. In one group, Emperor Palpatine delivers the \"Anger\" slogan. In the other, Darth Vader presents the \"Together\" slogan. 20 droids convert to the Dark Side after hearing Palpatine's slogan, while only 5 droids convert after hearing Vader's. The Sith's data scientist concludes that \"Anger\" is a more effective slogan and should continue to be used.**\n",
        ">\n",
        "This represents bias in assignment to conditions.  The slogans are read by two different individuals which may impact the results.  In order to ensure there are no differencees between the two groups, each slogan should be read by both Emperor Palpatine and Darth Vader."
      ]
    },
    {
      "metadata": {
        "id": "v90hF2XAg23F",
        "colab_type": "text"
      },
      "cell_type": "markdown",
      "source": [
        "**2) In the past, the Jedi have had difficulty with public relations. They send two envoys, Jar Jar Binks and Mace Windu, to four friendly and four unfriendly planets respectively, with the goal of promoting favorable feelings toward the Jedi. Upon their return, the envoys learn that Jar Jar was much more effective than Windu: Over 75% of the people surveyed said their attitudes had become more favorable after speaking with Jar Jar, while only 65% said their attitudes had become more favorable after speaking with Windu. This makes Windu angry, because he is sure that he had a better success rate than Jar Jar on every planet. The Jedi choose Jar Jar to be their representative in the future.**\n",
        ">\n",
        "This represents bias in assignment to conditions.  The two sample groups are different from one another, one coming from friendly planets, while the other coming from unfriendly planets.  In order to ensure there are no differences between the two sample groups, a random sample should be taken from each planet.  This sample from each planet should then be split up into two groups and assigned to Jar Jar and Windu.  This method will allow each of the envoys to promote to each planet equally."
      ]
    },
    {
      "metadata": {
        "id": "v379du75s0sN",
        "colab_type": "text"
      },
      "cell_type": "markdown",
      "source": [
        "**3) A company with work sites in five different countries has sent you data on employee satisfaction rates for workers in Human Resources and workers in Information Technology. Most HR workers are concentrated in three of the countries, while IT workers are equally distributed across worksites. The company requests a report on satisfaction for each job type. You calculate average job satisfaction for HR and for IT and present the report.**\n",
        ">\n",
        "This represents contextual bias.  The countries in which the two groups are located are different, which may impact job satisfaciton for each of the groups.  In order to better compare the two groups, a sample of the groups should only be taken from those countries in which both groups are distrubuted.\n"
      ]
    },
    {
      "metadata": {
        "id": "-RelYT00TTTO",
        "colab_type": "text"
      },
      "cell_type": "markdown",
      "source": [
        "**4) When people install the Happy Days Fitness Tracker app, they are asked to \"opt in\" to a data collection scheme where their level of physical activity data is automatically sent to the company for product research purposes. During your interview with the company, they tell you that the app is very effective because after installing the app, the data show that people's activity levels rise steadily.**\n",
        ">\n",
        "There is no control group to compare against the group who installed the fitness tracker app.  Those who are installing the app could be people who have the intention to increase physical activity and may have increased physical actiivty regardless of the app.  Therefore, in order to determine the effectiveness of the app, the group who installed the app needs to be compared to a control group who did not install the app."
      ]
    },
    {
      "metadata": {
        "id": "WH2B5lovTfaZ",
        "colab_type": "text"
      },
      "cell_type": "markdown",
      "source": [
        "**5) To prevent cheating, a teacher writes three versions of a test. She stacks the three versions together, first all copies of Version A, then all copies of Version B, then all copies of Version C. As students arrive for the exam, each student takes a test. When grading the test, the teacher finds that students who took Version B scored higher than students who took either Version A or Version C. She concludes from this that Version B is easier, and discards it.**\n",
        ">\n",
        "The order in which the tests are placed may impact the test results.  For example, students who walked in together may have studied together, and have a similar level of understanding of the material, causing them to score similarly on the test.  In order ensure each group who takes the tests are same, the order of the tests should be randomized."
      ]
    }
  ]
}