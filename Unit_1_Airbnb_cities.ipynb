{
  "nbformat": 4,
  "nbformat_minor": 0,
  "metadata": {
    "colab": {
      "name": "Unit 1 - Airbnb cities.ipynb",
      "version": "0.3.2",
      "provenance": [],
      "include_colab_link": true
    },
    "kernelspec": {
      "name": "python3",
      "display_name": "Python 3"
    }
  },
  "cells": [
    {
      "cell_type": "markdown",
      "metadata": {
        "id": "view-in-github",
        "colab_type": "text"
      },
      "source": [
        "[View in Colaboratory](https://colab.research.google.com/github/mxchauhan/Thinkful-Bootcamp-Drills/blob/master/Unit_1_Airbnb_cities.ipynb)"
      ]
    },
    {
      "metadata": {
        "id": "Nlp378LfBExA",
        "colab_type": "text"
      },
      "cell_type": "markdown",
      "source": [
        "**1) What's the most expensive listing? What else can you tell me about the listing?**"
      ]
    },
    {
      "metadata": {
        "id": "lz4WNiOYA98e",
        "colab_type": "code",
        "colab": {}
      },
      "cell_type": "code",
      "source": [
        "SELECT\n",
        "\t*,\n",
        "\tCAST (replace (listings.price,'$','') AS DECIMAL (3,0)) as price2\n",
        "from\n",
        "\tlistings\n",
        "ORDER BY price2 DESC"
      ],
      "execution_count": 0,
      "outputs": []
    },
    {
      "metadata": {
        "id": "JRS4Uq2MBVa9",
        "colab_type": "text"
      },
      "cell_type": "markdown",
      "source": [
        "**2) What neighborhoods seem to be the most popular?**\n",
        ">\n",
        "West Town, Near North Side, Lake View"
      ]
    },
    {
      "metadata": {
        "id": "vMkdKNEYBcKp",
        "colab_type": "code",
        "colab": {}
      },
      "cell_type": "code",
      "source": [
        "SELECT\n",
        "\tneighbourhood_cleansed,\n",
        "\tcount(*) listings_neighbourhood,\n",
        "\t*\n",
        "from\n",
        "\tlistings\n",
        "group by 1\n",
        "order by listings_neighbourhood DESC"
      ],
      "execution_count": 0,
      "outputs": []
    },
    {
      "metadata": {
        "id": "jCJBHYdjCieT",
        "colab_type": "text"
      },
      "cell_type": "markdown",
      "source": [
        "**3) What time of year is the cheapest time to go to your city? What about the busiest?**"
      ]
    },
    {
      "metadata": {
        "id": "aLYy5YJSCj0q",
        "colab_type": "code",
        "colab": {}
      },
      "cell_type": "code",
      "source": [
        ""
      ],
      "execution_count": 0,
      "outputs": []
    }
  ]
}