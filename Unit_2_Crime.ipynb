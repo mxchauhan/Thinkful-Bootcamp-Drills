{
  "nbformat": 4,
  "nbformat_minor": 0,
  "metadata": {
    "colab": {
      "name": "Unit 2 - Crime.ipynb",
      "version": "0.3.2",
      "provenance": [],
      "include_colab_link": true
    },
    "kernelspec": {
      "name": "python3",
      "display_name": "Python 3"
    }
  },
  "cells": [
    {
      "cell_type": "markdown",
      "metadata": {
        "id": "view-in-github",
        "colab_type": "text"
      },
      "source": [
        "[View in Colaboratory](https://colab.research.google.com/github/mxchauhan/Thinkful-Bootcamp-Drills/blob/master/Unit_2_Crime.ipynb)"
      ]
    },
    {
      "metadata": {
        "id": "hmvJLnXzAZKq",
        "colab_type": "code",
        "colab": {}
      },
      "cell_type": "code",
      "source": [
        "import numpy as np\n",
        "import pandas as pd\n",
        "import scipy\n",
        "import sklearn\n",
        "import matplotlib.pyplot as plt\n",
        "import seaborn as sns"
      ],
      "execution_count": 0,
      "outputs": []
    },
    {
      "metadata": {
        "id": "i78BYw5FAcfZ",
        "colab_type": "code",
        "colab": {}
      },
      "cell_type": "code",
      "source": [
        "dataPath = (\"https://raw.githubusercontent.com/mxchauhan/Thinkful-Bootcamp-Drills/master/table_8_offenses_known_to_law_enforcement_new_york_by_city_2013.csv\")\n",
        "\n",
        "crimeRaw = pd.read_csv(dataPath, header=None)"
      ],
      "execution_count": 0,
      "outputs": []
    },
    {
      "metadata": {
        "id": "r9Gf1_2HIbd2",
        "colab_type": "code",
        "colab": {
          "base_uri": "https://localhost:8080/",
          "height": 204
        },
        "outputId": "5437fae1-58fa-441f-da60-2cb53a7b7304"
      },
      "cell_type": "code",
      "source": [
        "#we drop garbage rows\n",
        "crime = crimeRaw.iloc[5:,:].reset_index(drop=True)\n",
        "\n",
        "crime.columns = ['city', 'population', 'violent', 'murder', 'rape1', 'rape2', 'robbery',\n",
        "                'aggAssult', 'propertyCrime', 'burglary', 'larceny', 'motor', 'arson', 'unnamed']\n",
        "\n",
        "crime.drop('unnamed', axis=1, inplace=True)\n",
        "crime.drop('rape1', axis=1, inplace=True)\n",
        "\n",
        "columns = crime.columns\n",
        "crime[columns] = crime[columns].replace({\",\": ''}, regex=True)\n",
        "crime.head()"
      ],
      "execution_count": 3,
      "outputs": [
        {
          "output_type": "execute_result",
          "data": {
            "text/html": [
              "<div>\n",
              "<style scoped>\n",
              "    .dataframe tbody tr th:only-of-type {\n",
              "        vertical-align: middle;\n",
              "    }\n",
              "\n",
              "    .dataframe tbody tr th {\n",
              "        vertical-align: top;\n",
              "    }\n",
              "\n",
              "    .dataframe thead th {\n",
              "        text-align: right;\n",
              "    }\n",
              "</style>\n",
              "<table border=\"1\" class=\"dataframe\">\n",
              "  <thead>\n",
              "    <tr style=\"text-align: right;\">\n",
              "      <th></th>\n",
              "      <th>city</th>\n",
              "      <th>population</th>\n",
              "      <th>violent</th>\n",
              "      <th>murder</th>\n",
              "      <th>rape2</th>\n",
              "      <th>robbery</th>\n",
              "      <th>aggAssult</th>\n",
              "      <th>propertyCrime</th>\n",
              "      <th>burglary</th>\n",
              "      <th>larceny</th>\n",
              "      <th>motor</th>\n",
              "      <th>arson</th>\n",
              "    </tr>\n",
              "  </thead>\n",
              "  <tbody>\n",
              "    <tr>\n",
              "      <th>0</th>\n",
              "      <td>Adams Village</td>\n",
              "      <td>1861</td>\n",
              "      <td>0</td>\n",
              "      <td>0</td>\n",
              "      <td>0</td>\n",
              "      <td>0</td>\n",
              "      <td>0</td>\n",
              "      <td>12</td>\n",
              "      <td>2</td>\n",
              "      <td>10</td>\n",
              "      <td>0</td>\n",
              "      <td>0</td>\n",
              "    </tr>\n",
              "    <tr>\n",
              "      <th>1</th>\n",
              "      <td>Addison Town and Village</td>\n",
              "      <td>2577</td>\n",
              "      <td>3</td>\n",
              "      <td>0</td>\n",
              "      <td>0</td>\n",
              "      <td>0</td>\n",
              "      <td>3</td>\n",
              "      <td>24</td>\n",
              "      <td>3</td>\n",
              "      <td>20</td>\n",
              "      <td>1</td>\n",
              "      <td>0</td>\n",
              "    </tr>\n",
              "    <tr>\n",
              "      <th>2</th>\n",
              "      <td>Akron Village</td>\n",
              "      <td>2846</td>\n",
              "      <td>3</td>\n",
              "      <td>0</td>\n",
              "      <td>0</td>\n",
              "      <td>0</td>\n",
              "      <td>3</td>\n",
              "      <td>16</td>\n",
              "      <td>1</td>\n",
              "      <td>15</td>\n",
              "      <td>0</td>\n",
              "      <td>0</td>\n",
              "    </tr>\n",
              "    <tr>\n",
              "      <th>3</th>\n",
              "      <td>Albany</td>\n",
              "      <td>97956</td>\n",
              "      <td>791</td>\n",
              "      <td>8</td>\n",
              "      <td>30</td>\n",
              "      <td>227</td>\n",
              "      <td>526</td>\n",
              "      <td>4090</td>\n",
              "      <td>705</td>\n",
              "      <td>3243</td>\n",
              "      <td>142</td>\n",
              "      <td>NaN</td>\n",
              "    </tr>\n",
              "    <tr>\n",
              "      <th>4</th>\n",
              "      <td>Albion Village</td>\n",
              "      <td>6388</td>\n",
              "      <td>23</td>\n",
              "      <td>0</td>\n",
              "      <td>3</td>\n",
              "      <td>4</td>\n",
              "      <td>16</td>\n",
              "      <td>223</td>\n",
              "      <td>53</td>\n",
              "      <td>165</td>\n",
              "      <td>5</td>\n",
              "      <td>NaN</td>\n",
              "    </tr>\n",
              "  </tbody>\n",
              "</table>\n",
              "</div>"
            ],
            "text/plain": [
              "                       city population violent murder rape2 robbery aggAssult  \\\n",
              "0             Adams Village       1861       0      0     0       0         0   \n",
              "1  Addison Town and Village       2577       3      0     0       0         3   \n",
              "2             Akron Village       2846       3      0     0       0         3   \n",
              "3                    Albany      97956     791      8    30     227       526   \n",
              "4            Albion Village       6388      23      0     3       4        16   \n",
              "\n",
              "  propertyCrime burglary larceny motor arson  \n",
              "0            12        2      10     0     0  \n",
              "1            24        3      20     1     0  \n",
              "2            16        1      15     0     0  \n",
              "3          4090      705    3243   142   NaN  \n",
              "4           223       53     165     5   NaN  "
            ]
          },
          "metadata": {
            "tags": []
          },
          "execution_count": 3
        }
      ]
    },
    {
      "metadata": {
        "id": "TvD7rTUY4h-j",
        "colab_type": "code",
        "colab": {}
      },
      "cell_type": "code",
      "source": [
        "from numpy import nan"
      ],
      "execution_count": 0,
      "outputs": []
    },
    {
      "metadata": {
        "id": "fNJRMv0CdGCv",
        "colab_type": "text"
      },
      "cell_type": "markdown",
      "source": [
        "* https://stackoverflow.com/questions/21608228/conditional-replace-pandas\n",
        "\n",
        "+ `df.loc[mask, column_name] = 0\n",
        "`"
      ]
    },
    {
      "metadata": {
        "id": "O-_QbDYmcWp0",
        "colab_type": "code",
        "colab": {
          "base_uri": "https://localhost:8080/",
          "height": 51
        },
        "outputId": "39983ea0-aced-4ae5-930b-e4403f25e52d"
      },
      "cell_type": "code",
      "source": [
        "crime.murder.unique()"
      ],
      "execution_count": 5,
      "outputs": [
        {
          "output_type": "execute_result",
          "data": {
            "text/plain": [
              "array(['0', '8', '1', '3', '47', '10', '2', '5', '335', '7', '42', '4',\n",
              "       '21', '6', nan], dtype=object)"
            ]
          },
          "metadata": {
            "tags": []
          },
          "execution_count": 5
        }
      ]
    },
    {
      "metadata": {
        "id": "mb1uyxQu5OoN",
        "colab_type": "code",
        "colab": {
          "base_uri": "https://localhost:8080/",
          "height": 51
        },
        "outputId": "666817f4-a82b-4fb9-e4f8-7c3e19e0c837"
      },
      "cell_type": "code",
      "source": [
        "print(crime.murder.unique())\n",
        "crime.murder.isnull().sum()\n"
      ],
      "execution_count": 6,
      "outputs": [
        {
          "output_type": "stream",
          "text": [
            "['0' '8' '1' '3' '47' '10' '2' '5' '335' '7' '42' '4' '21' '6' nan]\n"
          ],
          "name": "stdout"
        },
        {
          "output_type": "execute_result",
          "data": {
            "text/plain": [
              "3"
            ]
          },
          "metadata": {
            "tags": []
          },
          "execution_count": 6
        }
      ]
    },
    {
      "metadata": {
        "id": "DSdEXYaX5Dtf",
        "colab_type": "code",
        "colab": {
          "base_uri": "https://localhost:8080/",
          "height": 119
        },
        "outputId": "08f84ad4-1b02-425a-d654-632fecf02623"
      },
      "cell_type": "code",
      "source": [
        "crime.robbery.unique()\n"
      ],
      "execution_count": 9,
      "outputs": [
        {
          "output_type": "execute_result",
          "data": {
            "text/plain": [
              "array(['0', '227', '4', '3', '31', '12', '22', '1', '13', '101', '10',\n",
              "       '5', '1322', '9', '2', '48', '17', '11', '8', '29', '7', '76',\n",
              "       '19', '6', '60', '16', '204', '51', '39', '20', '25', '24', '47',\n",
              "       '228', '150', '15', '81', '19170', '166', '21', '100', '26', '918',\n",
              "       '23', '203', '34', '400', '145', '102', '28', '390', nan],\n",
              "      dtype=object)"
            ]
          },
          "metadata": {
            "tags": []
          },
          "execution_count": 9
        }
      ]
    },
    {
      "metadata": {
        "id": "3X_zPxANOdtz",
        "colab_type": "code",
        "colab": {}
      },
      "cell_type": "code",
      "source": [
        "crime.loc[crime.propertyCrime == nan, 'propertyCrime'] = '0'\n",
        "crime.loc[crime.murder == nan, 'murder'] = '0'\n",
        "crime.loc[crime.robbery == nan, 'robbery'] = '0'\n",
        "crime.loc[crime.larceny == nan, 'larceny'] = '0'\n",
        "crime.loc[crime.burglary == nan, 'burglary'] = '0'\n",
        "crime.loc[crime.motor == nan, 'motor'] = '0'\n",
        "crime.loc[crime.arson == nan, 'arson'] = '0'"
      ],
      "execution_count": 0,
      "outputs": []
    },
    {
      "metadata": {
        "id": "dcDabhEQL2h5",
        "colab_type": "code",
        "colab": {}
      },
      "cell_type": "code",
      "source": [
        "crime.murder = crime.murder.dropna().astype(int)\n",
        "crime.robbery = crime.murder.dropna().astype(int)\n",
        "crime.larceny = crime.larceny.dropna().astype(int)\n",
        "crime.burglary = crime.burglary.dropna().astype(int)\n",
        "crime.motor = crime.motor.dropna().astype(int)\n",
        "crime.arson = crime.arson.dropna().astype(int)"
      ],
      "execution_count": 0,
      "outputs": []
    },
    {
      "metadata": {
        "id": "lCNvkQ5TcuCR",
        "colab_type": "code",
        "colab": {}
      },
      "cell_type": "code",
      "source": [
        "np.sort(crime.murder.unique())[::-1] \n",
        "\n",
        "type(np.sort(crime.murder.unique())[::-1][7]) \n",
        "\n",
        "\n",
        "#maybe we add this back as a column\n",
        "cleanedMurders = np.asarray([x for x in crime.murder if str(x) != 'nan'])\n"
      ],
      "execution_count": 0,
      "outputs": []
    },
    {
      "metadata": {
        "id": "8ugE3l9HmVtk",
        "colab_type": "code",
        "colab": {}
      },
      "cell_type": "code",
      "source": [
        "crime['population2'] = np.asarray([x**2 for x in crime.population])"
      ],
      "execution_count": 0,
      "outputs": []
    },
    {
      "metadata": {
        "id": "Ay7S8_txKEpS",
        "colab_type": "code",
        "colab": {
          "base_uri": "https://localhost:8080/",
          "height": 170
        },
        "outputId": "3826ba3e-89d5-43d8-bc94-050e2d7d53e5"
      },
      "cell_type": "code",
      "source": [
        "crime.propertyCrime = crime.propertyCrime.dropna().astype(int)\n",
        "\n",
        "crime.propertyCrime.describe()"
      ],
      "execution_count": 13,
      "outputs": [
        {
          "output_type": "execute_result",
          "data": {
            "text/plain": [
              "count       348.000000\n",
              "mean        792.606322\n",
              "std        7659.724746\n",
              "min           0.000000\n",
              "25%          40.500000\n",
              "50%         112.500000\n",
              "75%         341.000000\n",
              "max      141971.000000\n",
              "Name: propertyCrime, dtype: float64"
            ]
          },
          "metadata": {
            "tags": []
          },
          "execution_count": 13
        }
      ]
    },
    {
      "metadata": {
        "id": "61zwPgG_2qfZ",
        "colab_type": "code",
        "colab": {}
      },
      "cell_type": "code",
      "source": [
        "crime['robbery'] = pd.to_numeric(crime.robbery, errors='coerce')\n",
        "crime['murder'] = pd.to_numeric(crime.murder, errors = 'coerce')\n",
        "crime['population'] = pd.to_numeric(crime.population, errors = 'coerce')\n",
        "\n",
        "features = pd.DataFrame()\n",
        "\n",
        "#creating features\n",
        "features['murder'] = np.where(crime.murder >= 1, 1, 0)\n",
        "\n",
        "features['robbery'] = np.where(crime.robbery >= 1, 1, 0)\n",
        "\n",
        "features['burglary'] = np.where(crime.burglary >= 1, 1, 0)\n",
        "\n",
        "features['larceny'] = np.where(crime.larceny >= 1, 1, 0)\n",
        "\n",
        "features['motor'] = np.where(crime.motor >= 1, 1, 0)\n",
        "\n",
        "features['arson'] = np.where(crime.arson >= 1, 1, 0)"
      ],
      "execution_count": 0,
      "outputs": []
    },
    {
      "metadata": {
        "id": "O74H2Hkktsyb",
        "colab_type": "text"
      },
      "cell_type": "markdown",
      "source": [
        "**Tip:** to get a better result in linear regression, we need to do feature scaling.  (Watch Andrew Ng's videos on this)"
      ]
    },
    {
      "metadata": {
        "id": "QjwmOejn2wpx",
        "colab_type": "code",
        "colab": {
          "base_uri": "https://localhost:8080/",
          "height": 204
        },
        "outputId": "703582d0-4e23-433f-e0a4-5e4f335f6c96"
      },
      "cell_type": "code",
      "source": [
        "features.head()"
      ],
      "execution_count": 15,
      "outputs": [
        {
          "output_type": "execute_result",
          "data": {
            "text/html": [
              "<div>\n",
              "<style scoped>\n",
              "    .dataframe tbody tr th:only-of-type {\n",
              "        vertical-align: middle;\n",
              "    }\n",
              "\n",
              "    .dataframe tbody tr th {\n",
              "        vertical-align: top;\n",
              "    }\n",
              "\n",
              "    .dataframe thead th {\n",
              "        text-align: right;\n",
              "    }\n",
              "</style>\n",
              "<table border=\"1\" class=\"dataframe\">\n",
              "  <thead>\n",
              "    <tr style=\"text-align: right;\">\n",
              "      <th></th>\n",
              "      <th>murder</th>\n",
              "      <th>robbery</th>\n",
              "      <th>burglary</th>\n",
              "      <th>larceny</th>\n",
              "      <th>motor</th>\n",
              "      <th>arson</th>\n",
              "    </tr>\n",
              "  </thead>\n",
              "  <tbody>\n",
              "    <tr>\n",
              "      <th>0</th>\n",
              "      <td>0</td>\n",
              "      <td>0</td>\n",
              "      <td>1</td>\n",
              "      <td>1</td>\n",
              "      <td>0</td>\n",
              "      <td>0</td>\n",
              "    </tr>\n",
              "    <tr>\n",
              "      <th>1</th>\n",
              "      <td>0</td>\n",
              "      <td>0</td>\n",
              "      <td>1</td>\n",
              "      <td>1</td>\n",
              "      <td>1</td>\n",
              "      <td>0</td>\n",
              "    </tr>\n",
              "    <tr>\n",
              "      <th>2</th>\n",
              "      <td>0</td>\n",
              "      <td>0</td>\n",
              "      <td>1</td>\n",
              "      <td>1</td>\n",
              "      <td>0</td>\n",
              "      <td>0</td>\n",
              "    </tr>\n",
              "    <tr>\n",
              "      <th>3</th>\n",
              "      <td>1</td>\n",
              "      <td>1</td>\n",
              "      <td>1</td>\n",
              "      <td>1</td>\n",
              "      <td>1</td>\n",
              "      <td>0</td>\n",
              "    </tr>\n",
              "    <tr>\n",
              "      <th>4</th>\n",
              "      <td>0</td>\n",
              "      <td>0</td>\n",
              "      <td>1</td>\n",
              "      <td>1</td>\n",
              "      <td>1</td>\n",
              "      <td>0</td>\n",
              "    </tr>\n",
              "  </tbody>\n",
              "</table>\n",
              "</div>"
            ],
            "text/plain": [
              "   murder  robbery  burglary  larceny  motor  arson\n",
              "0       0        0         1        1      0      0\n",
              "1       0        0         1        1      1      0\n",
              "2       0        0         1        1      0      0\n",
              "3       1        1         1        1      1      0\n",
              "4       0        0         1        1      1      0"
            ]
          },
          "metadata": {
            "tags": []
          },
          "execution_count": 15
        }
      ]
    },
    {
      "metadata": {
        "id": "KnVZkK3FbkLB",
        "colab_type": "code",
        "colab": {}
      },
      "cell_type": "code",
      "source": [
        "def reject_outliers(data):\n",
        "    u = np.mean(data)\n",
        "    s = np.std(data)\n",
        "    data_filtered = data[(data > u-2*s) & (data < u+2*s)]\n",
        "    return data_filtered"
      ],
      "execution_count": 0,
      "outputs": []
    },
    {
      "metadata": {
        "id": "J_o8ZdDRblED",
        "colab_type": "code",
        "colab": {}
      },
      "cell_type": "code",
      "source": [
        "crime.propertyCrime = reject_outliers(crime.propertyCrime)\n",
        "crime.murder = reject_outliers(crime.murder)\n",
        "crime.robbery = reject_outliers(crime.robbery)\n",
        "crime.larceny = reject_outliers(crime.larceny)\n",
        "crime.larceny = reject_outliers(crime.larceny)\n",
        "crime.burglary = reject_outliers(crime.burglary)"
      ],
      "execution_count": 0,
      "outputs": []
    },
    {
      "metadata": {
        "id": "9wC6imKnGW3M",
        "colab_type": "code",
        "colab": {
          "base_uri": "https://localhost:8080/",
          "height": 34
        },
        "outputId": "695a631b-f2b4-4178-aed8-5944525eee1b"
      },
      "cell_type": "code",
      "source": [
        "type(crime.population)"
      ],
      "execution_count": 18,
      "outputs": [
        {
          "output_type": "execute_result",
          "data": {
            "text/plain": [
              "pandas.core.series.Series"
            ]
          },
          "metadata": {
            "tags": []
          },
          "execution_count": 18
        }
      ]
    },
    {
      "metadata": {
        "id": "mRI8pdz6lDsK",
        "colab_type": "code",
        "colab": {
          "base_uri": "https://localhost:8080/",
          "height": 34
        },
        "outputId": "92176560-0a15-48a9-d8df-65a54d7a6787"
      },
      "cell_type": "code",
      "source": [
        "# rename 'pop' column to 'population'\n",
        "# https://www.tutorialspoint.com/python/list_pop.htm\n",
        "type(crime.pop)"
      ],
      "execution_count": 19,
      "outputs": [
        {
          "output_type": "execute_result",
          "data": {
            "text/plain": [
              "method"
            ]
          },
          "metadata": {
            "tags": []
          },
          "execution_count": 19
        }
      ]
    },
    {
      "metadata": {
        "id": "e0ODhusNJ3yC",
        "colab_type": "code",
        "colab": {
          "base_uri": "https://localhost:8080/",
          "height": 1496
        },
        "outputId": "4d0020b9-c824-488d-fa08-a8d04e9db962"
      },
      "cell_type": "code",
      "source": [
        "np.sort(crime['population'].unique())"
      ],
      "execution_count": 20,
      "outputs": [
        {
          "output_type": "execute_result",
          "data": {
            "text/plain": [
              "array([5.260000e+02, 6.150000e+02, 6.560000e+02, 6.580000e+02,\n",
              "       7.620000e+02, 8.290000e+02, 8.720000e+02, 9.770000e+02,\n",
              "       9.800000e+02, 9.970000e+02, 1.022000e+03, 1.097000e+03,\n",
              "       1.104000e+03, 1.122000e+03, 1.174000e+03, 1.263000e+03,\n",
              "       1.274000e+03, 1.350000e+03, 1.351000e+03, 1.385000e+03,\n",
              "       1.410000e+03, 1.428000e+03, 1.433000e+03, 1.437000e+03,\n",
              "       1.553000e+03, 1.602000e+03, 1.622000e+03, 1.628000e+03,\n",
              "       1.688000e+03, 1.691000e+03, 1.702000e+03, 1.732000e+03,\n",
              "       1.733000e+03, 1.754000e+03, 1.781000e+03, 1.792000e+03,\n",
              "       1.797000e+03, 1.805000e+03, 1.813000e+03, 1.820000e+03,\n",
              "       1.827000e+03, 1.835000e+03, 1.854000e+03, 1.861000e+03,\n",
              "       1.862000e+03, 1.913000e+03, 1.926000e+03, 1.947000e+03,\n",
              "       1.960000e+03, 2.049000e+03, 2.053000e+03, 2.054000e+03,\n",
              "       2.065000e+03, 2.116000e+03, 2.171000e+03, 2.191000e+03,\n",
              "       2.219000e+03, 2.246000e+03, 2.265000e+03, 2.279000e+03,\n",
              "       2.311000e+03, 2.325000e+03, 2.354000e+03, 2.358000e+03,\n",
              "       2.362000e+03, 2.381000e+03, 2.412000e+03, 2.450000e+03,\n",
              "       2.460000e+03, 2.491000e+03, 2.498000e+03, 2.522000e+03,\n",
              "       2.550000e+03, 2.577000e+03, 2.579000e+03, 2.604000e+03,\n",
              "       2.621000e+03, 2.635000e+03, 2.663000e+03, 2.715000e+03,\n",
              "       2.732000e+03, 2.794000e+03, 2.842000e+03, 2.846000e+03,\n",
              "       2.912000e+03, 2.978000e+03, 2.985000e+03, 3.009000e+03,\n",
              "       3.012000e+03, 3.036000e+03, 3.043000e+03, 3.064000e+03,\n",
              "       3.118000e+03, 3.161000e+03, 3.209000e+03, 3.270000e+03,\n",
              "       3.324000e+03, 3.333000e+03, 3.453000e+03, 3.457000e+03,\n",
              "       3.466000e+03, 3.475000e+03, 3.481000e+03, 3.543000e+03,\n",
              "       3.628000e+03, 3.633000e+03, 3.640000e+03, 3.642000e+03,\n",
              "       3.683000e+03, 3.733000e+03, 3.749000e+03, 3.805000e+03,\n",
              "       3.818000e+03, 3.847000e+03, 3.862000e+03, 3.991000e+03,\n",
              "       4.065000e+03, 4.079000e+03, 4.089000e+03, 4.124000e+03,\n",
              "       4.188000e+03, 4.233000e+03, 4.285000e+03, 4.337000e+03,\n",
              "       4.354000e+03, 4.503000e+03, 4.523000e+03, 4.574000e+03,\n",
              "       4.605000e+03, 4.625000e+03, 4.704000e+03, 4.912000e+03,\n",
              "       4.982000e+03, 5.016000e+03, 5.033000e+03, 5.042000e+03,\n",
              "       5.123000e+03, 5.144000e+03, 5.175000e+03, 5.200000e+03,\n",
              "       5.213000e+03, 5.335000e+03, 5.369000e+03, 5.400000e+03,\n",
              "       5.418000e+03, 5.558000e+03, 5.691000e+03, 5.733000e+03,\n",
              "       5.828000e+03, 5.881000e+03, 5.930000e+03, 5.931000e+03,\n",
              "       5.948000e+03, 5.953000e+03, 6.026000e+03, 6.388000e+03,\n",
              "       6.390000e+03, 6.487000e+03, 6.530000e+03, 6.577000e+03,\n",
              "       6.578000e+03, 6.582000e+03, 6.587000e+03, 6.596000e+03,\n",
              "       6.676000e+03, 6.701000e+03, 6.794000e+03, 6.887000e+03,\n",
              "       6.964000e+03, 6.982000e+03, 7.049000e+03, 7.100000e+03,\n",
              "       7.112000e+03, 7.187000e+03, 7.280000e+03, 7.411000e+03,\n",
              "       7.458000e+03, 7.473000e+03, 7.684000e+03, 7.693000e+03,\n",
              "       7.700000e+03, 7.827000e+03, 7.891000e+03, 7.937000e+03,\n",
              "       7.976000e+03, 7.990000e+03, 8.002000e+03, 8.180000e+03,\n",
              "       8.241000e+03, 8.284000e+03, 8.296000e+03, 8.392000e+03,\n",
              "       8.481000e+03, 8.531000e+03, 8.542000e+03, 8.544000e+03,\n",
              "       8.689000e+03, 8.769000e+03, 8.961000e+03, 8.978000e+03,\n",
              "       9.132000e+03, 9.141000e+03, 9.264000e+03, 9.480000e+03,\n",
              "       9.517000e+03, 9.519000e+03, 9.543000e+03, 9.613000e+03,\n",
              "       9.996000e+03, 1.024500e+04, 1.037400e+04, 1.044200e+04,\n",
              "       1.047000e+04, 1.068500e+04, 1.075100e+04, 1.080800e+04,\n",
              "       1.088600e+04, 1.098800e+04, 1.102100e+04, 1.102800e+04,\n",
              "       1.107200e+04, 1.108700e+04, 1.122000e+04, 1.144900e+04,\n",
              "       1.157300e+04, 1.173900e+04, 1.200100e+04, 1.207700e+04,\n",
              "       1.210900e+04, 1.213700e+04, 1.214600e+04, 1.219500e+04,\n",
              "       1.232900e+04, 1.312200e+04, 1.319400e+04, 1.338100e+04,\n",
              "       1.377400e+04, 1.382500e+04, 1.415000e+04, 1.420500e+04,\n",
              "       1.424800e+04, 1.458200e+04, 1.486600e+04, 1.498700e+04,\n",
              "       1.518900e+04, 1.525600e+04, 1.530700e+04, 1.531500e+04,\n",
              "       1.537400e+04, 1.592600e+04, 1.617500e+04, 1.617900e+04,\n",
              "       1.629200e+04, 1.647000e+04, 1.756400e+04, 1.762700e+04,\n",
              "       1.786400e+04, 1.796500e+04, 1.813900e+04, 1.818200e+04,\n",
              "       1.916400e+04, 1.931800e+04, 1.933100e+04, 1.952800e+04,\n",
              "       1.967200e+04, 1.967400e+04, 1.980000e+04, 1.996300e+04,\n",
              "       2.002600e+04, 2.035500e+04, 2.043500e+04, 2.090400e+04,\n",
              "       2.139700e+04, 2.183900e+04, 2.209700e+04, 2.259600e+04,\n",
              "       2.268100e+04, 2.366500e+04, 2.390800e+04, 2.412900e+04,\n",
              "       2.416500e+04, 2.446100e+04, 2.531400e+04, 2.576700e+04,\n",
              "       2.656400e+04, 2.708100e+04, 2.713400e+04, 2.727000e+04,\n",
              "       2.780900e+04, 2.787600e+04, 2.794000e+04, 2.798000e+04,\n",
              "       2.817900e+04, 2.846800e+04, 2.857100e+04, 2.892100e+04,\n",
              "       2.914600e+04, 2.931500e+04, 2.932800e+04, 2.938600e+04,\n",
              "       2.957100e+04, 3.065800e+04, 3.077800e+04, 3.098400e+04,\n",
              "       3.117600e+04, 3.228800e+04, 3.255700e+04, 3.353400e+04,\n",
              "       3.378900e+04, 3.380500e+04, 3.424300e+04, 3.446200e+04,\n",
              "       3.636900e+04, 3.664300e+04, 3.668900e+04, 3.719600e+04,\n",
              "       3.743800e+04, 4.321400e+04, 4.377700e+04, 4.386600e+04,\n",
              "       4.478700e+04, 4.482100e+04, 4.553500e+04, 4.630400e+04,\n",
              "       4.957400e+04, 4.989800e+04, 5.060300e+04, 5.150600e+04,\n",
              "       5.519800e+04, 5.755900e+04, 5.808200e+04, 6.168600e+04,\n",
              "       6.604100e+04, 6.807100e+04, 7.821500e+04, 7.836100e+04,\n",
              "       7.880000e+04, 8.070500e+04, 8.720400e+04, 9.666700e+04,\n",
              "       9.795600e+04, 1.182960e+05, 1.438340e+05, 1.991340e+05,\n",
              "       2.105620e+05, 2.587890e+05, 8.396126e+06,          nan])"
            ]
          },
          "metadata": {
            "tags": []
          },
          "execution_count": 20
        }
      ]
    },
    {
      "metadata": {
        "id": "ljf3itAJQwie",
        "colab_type": "code",
        "colab": {
          "base_uri": "https://localhost:8080/",
          "height": 376
        },
        "outputId": "f93a30a8-389c-45c7-b4f2-f5b3e0d04be2"
      },
      "cell_type": "code",
      "source": [
        "plt.scatter(crime.population, crime.propertyCrime)\n",
        "plt.xlabel('Murder')\n",
        "plt.ylabel('Property Crime')\n",
        "plt.axhline(y=0)\n",
        "plt.title('Property Crime')\n",
        "plt.show()"
      ],
      "execution_count": 21,
      "outputs": [
        {
          "output_type": "display_data",
          "data": {
            "image/png": "[encoded data removed]",
            "text/plain": [
              "<matplotlib.figure.Figure at 0x7f6490f4b9e8>"
            ]
          },
          "metadata": {
            "tags": []
          }
        }
      ]
    },
    {
      "metadata": {
        "id": "3EqGoXbL0TNg",
        "colab_type": "code",
        "colab": {
          "base_uri": "https://localhost:8080/",
          "height": 376
        },
        "outputId": "bdb203dd-d95a-416f-858b-3f5140e1b71f"
      },
      "cell_type": "code",
      "source": [
        "crime.robbery.fillna(value=crime.robbery.median(), inplace=True)\n",
        "plt.boxplot(crime.robbery, sym='k')\n",
        "plt.title('Robbery')\n",
        "plt.xlabel('Robbery')\n",
        "plt.ylabel('Count')\n",
        "plt.show()"
      ],
      "execution_count": 22,
      "outputs": [
        {
          "output_type": "display_data",
          "data": {
            "image/png": "[encoded data removed]",
            "text/plain": [
              "<matplotlib.figure.Figure at 0x7f6490f84f28>"
            ]
          },
          "metadata": {
            "tags": []
          }
        }
      ]
    },
    {
      "metadata": {
        "id": "DBf5RzVLiSx0",
        "colab_type": "code",
        "colab": {
          "base_uri": "https://localhost:8080/",
          "height": 170
        },
        "outputId": "fd954ba1-3d53-4606-e599-237c528dfc17"
      },
      "cell_type": "code",
      "source": [
        "crime.robbery.describe()"
      ],
      "execution_count": 34,
      "outputs": [
        {
          "output_type": "execute_result",
          "data": {
            "text/plain": [
              "count    351.000000\n",
              "mean       0.344729\n",
              "std        1.574155\n",
              "min        0.000000\n",
              "25%        0.000000\n",
              "50%        0.000000\n",
              "75%        0.000000\n",
              "max       21.000000\n",
              "Name: robbery, dtype: float64"
            ]
          },
          "metadata": {
            "tags": []
          },
          "execution_count": 34
        }
      ]
    },
    {
      "metadata": {
        "id": "79-PrsAPGdS0",
        "colab_type": "code",
        "colab": {
          "base_uri": "https://localhost:8080/",
          "height": 376
        },
        "outputId": "1cdc2cd8-931c-4b37-d140-8769b11b2b8f"
      },
      "cell_type": "code",
      "source": [
        "plt.scatter(crime.murder, crime.propertyCrime)\n",
        "plt.xlabel('Murder')\n",
        "plt.ylabel('Property Crime')\n",
        "plt.axhline(y=0)\n",
        "plt.title('Property Crime')\n",
        "plt.show()"
      ],
      "execution_count": 23,
      "outputs": [
        {
          "output_type": "display_data",
          "data": {
            "image/png": "[encoded data removed]",
            "text/plain": [
              "<matplotlib.figure.Figure at 0x7f6490f84f98>"
            ]
          },
          "metadata": {
            "tags": []
          }
        }
      ]
    },
    {
      "metadata": {
        "id": "22oQN8bKLodR",
        "colab_type": "code",
        "colab": {
          "base_uri": "https://localhost:8080/",
          "height": 376
        },
        "outputId": "a476af38-ce2b-491b-c480-858c61988873"
      },
      "cell_type": "code",
      "source": [
        "plt.scatter(crime.robbery, crime.propertyCrime)\n",
        "plt.xlabel('Robbery')\n",
        "plt.ylabel('Property Crime')\n",
        "plt.axhline(y=0)\n",
        "plt.title('Robbery vs. Property Crime')\n",
        "plt.show()"
      ],
      "execution_count": 24,
      "outputs": [
        {
          "output_type": "display_data",
          "data": {
            "image/png": "[encoded data removed]",
            "text/plain": [
              "<matplotlib.figure.Figure at 0x7f648e5966a0>"
            ]
          },
          "metadata": {
            "tags": []
          }
        }
      ]
    },
    {
      "metadata": {
        "id": "unRw8bIHMHCZ",
        "colab_type": "code",
        "colab": {
          "base_uri": "https://localhost:8080/",
          "height": 376
        },
        "outputId": "bce6c22e-9121-4827-83bd-38f9428fcf35"
      },
      "cell_type": "code",
      "source": [
        "plt.scatter(crime.larceny, crime.propertyCrime)\n",
        "plt.xlabel('Larceny')\n",
        "plt.ylabel('Property Crime')\n",
        "plt.axhline(y=0)\n",
        "plt.title('Larceny vs. Property Crime')\n",
        "plt.show()"
      ],
      "execution_count": 25,
      "outputs": [
        {
          "output_type": "display_data",
          "data": {
            "image/png": "[encoded data removed]",
            "text/plain": [
              "<matplotlib.figure.Figure at 0x7f648e580710>"
            ]
          },
          "metadata": {
            "tags": []
          }
        }
      ]
    },
    {
      "metadata": {
        "id": "dny_WVpbNO6_",
        "colab_type": "code",
        "colab": {
          "base_uri": "https://localhost:8080/",
          "height": 376
        },
        "outputId": "96140e95-a932-4a50-d21b-f09ad38e4840"
      },
      "cell_type": "code",
      "source": [
        "plt.scatter(crime.burglary, crime.propertyCrime)\n",
        "plt.xlabel('Burglary')\n",
        "plt.ylabel('Property Crime')\n",
        "plt.axhline(y=0)\n",
        "plt.title('Burglary vs. Property Crime')\n",
        "plt.show()"
      ],
      "execution_count": 26,
      "outputs": [
        {
          "output_type": "display_data",
          "data": {
            "image/png": "[encoded data removed]",
            "text/plain": [
              "<matplotlib.figure.Figure at 0x7f648e4d06a0>"
            ]
          },
          "metadata": {
            "tags": []
          }
        }
      ]
    },
    {
      "metadata": {
        "id": "5jKVcpAAd1wW",
        "colab_type": "code",
        "colab": {
          "base_uri": "https://localhost:8080/",
          "height": 272
        },
        "outputId": "0e66d426-47d1-452e-f5b3-4dd4bfa38653"
      },
      "cell_type": "code",
      "source": [
        "from sklearn import linear_model\n",
        "\n",
        "regr = linear_model.LinearRegression()\n",
        "Y = crime['propertyCrime'].values.reshape(-1, 1)\n",
        "X = crime[['population', 'population2', 'murder','robbery','larceny', 'burglary', 'arson']]\n",
        "\n",
        "# impute 0 to nans\n",
        "X.fillna(value=0, inplace= True)\n",
        "\n",
        "# https://docs.scipy.org/doc/numpy/reference/generated/numpy.nan_to_num.html\n",
        "np.nan_to_num(Y, copy=False)\n",
        "\n",
        "\n",
        "regr.fit(X,Y)\n",
        "\n",
        "# Inspect the results.\n",
        "print('\\nCoefficients: \\n', regr.coef_)\n",
        "print('\\nIntercept: \\n', regr.intercept_)\n",
        "print('\\nR-squared:')\n",
        "print(regr.score(X, Y))"
      ],
      "execution_count": 38,
      "outputs": [
        {
          "output_type": "stream",
          "text": [
            "\n",
            "Coefficients: \n",
            " [[ 3.18615067e-02 -3.79379671e-09 -3.57084959e+01 -3.57084959e+01\n",
            "  -6.11938273e-01  1.19542380e+00  2.48175721e+01]]\n",
            "\n",
            "Intercept: \n",
            " [-67.77298099]\n",
            "\n",
            "R-squared:\n",
            "0.8440765591569814\n"
          ],
          "name": "stdout"
        },
        {
          "output_type": "stream",
          "text": [
            "/usr/local/lib/python3.6/dist-packages/pandas/core/frame.py:3035: SettingWithCopyWarning: \n",
            "A value is trying to be set on a copy of a slice from a DataFrame\n",
            "\n",
            "See the caveats in the documentation: http://pandas.pydata.org/pandas-docs/stable/indexing.html#indexing-view-versus-copy\n",
            "  downcast=downcast, **kwargs)\n"
          ],
          "name": "stderr"
        }
      ]
    },
    {
      "metadata": {
        "id": "SJXmPjiNney0",
        "colab_type": "text"
      },
      "cell_type": "markdown",
      "source": [
        "https://stackoverflow.com/questions/31323499/sklearn-error-valueerror-input-contains-nan-infinity-or-a-value-too-large-for"
      ]
    },
    {
      "metadata": {
        "id": "b-P7kY-Zn0qp",
        "colab_type": "code",
        "colab": {}
      },
      "cell_type": "code",
      "source": [
        "Y = crime['propertyCrime'].values.reshape(-1, 1)\n",
        "X = crime[['murder','robbery','larceny', 'burglary', 'arson']]"
      ],
      "execution_count": 0,
      "outputs": []
    },
    {
      "metadata": {
        "id": "6Zkh6SAcn24J",
        "colab_type": "code",
        "colab": {
          "base_uri": "https://localhost:8080/",
          "height": 34
        },
        "outputId": "e4ac1a35-ce49-4b57-ad6d-dc860ab21060"
      },
      "cell_type": "code",
      "source": [
        "Y.shape"
      ],
      "execution_count": 29,
      "outputs": [
        {
          "output_type": "execute_result",
          "data": {
            "text/plain": [
              "(351, 1)"
            ]
          },
          "metadata": {
            "tags": []
          },
          "execution_count": 29
        }
      ]
    },
    {
      "metadata": {
        "id": "9YjJ-gUNqAZu",
        "colab_type": "code",
        "colab": {
          "base_uri": "https://localhost:8080/",
          "height": 34
        },
        "outputId": "929feeb5-e357-4801-eaff-76c2273f7d6e"
      },
      "cell_type": "code",
      "source": [
        "type(X)"
      ],
      "execution_count": 30,
      "outputs": [
        {
          "output_type": "execute_result",
          "data": {
            "text/plain": [
              "pandas.core.frame.DataFrame"
            ]
          },
          "metadata": {
            "tags": []
          },
          "execution_count": 30
        }
      ]
    },
    {
      "metadata": {
        "id": "1zagag0tqJC1",
        "colab_type": "code",
        "colab": {
          "base_uri": "https://localhost:8080/",
          "height": 34
        },
        "outputId": "21f0347d-6018-4a14-9f15-a71faf71cfd0"
      },
      "cell_type": "code",
      "source": [
        "type(Y)"
      ],
      "execution_count": 31,
      "outputs": [
        {
          "output_type": "execute_result",
          "data": {
            "text/plain": [
              "numpy.ndarray"
            ]
          },
          "metadata": {
            "tags": []
          },
          "execution_count": 31
        }
      ]
    },
    {
      "metadata": {
        "id": "Xlra5n4jn5Cn",
        "colab_type": "code",
        "colab": {
          "base_uri": "https://localhost:8080/",
          "height": 34
        },
        "outputId": "57546cff-b2d8-4eb6-ef18-af56083c8554"
      },
      "cell_type": "code",
      "source": [
        "X.shape"
      ],
      "execution_count": 32,
      "outputs": [
        {
          "output_type": "execute_result",
          "data": {
            "text/plain": [
              "(351, 5)"
            ]
          },
          "metadata": {
            "tags": []
          },
          "execution_count": 32
        }
      ]
    },
    {
      "metadata": {
        "id": "58kAvRltn_fb",
        "colab_type": "code",
        "colab": {
          "base_uri": "https://localhost:8080/",
          "height": 119
        },
        "outputId": "aa094d9a-9ac7-486a-cfbb-277e431c06b6"
      },
      "cell_type": "code",
      "source": [
        "X.dtypes"
      ],
      "execution_count": 33,
      "outputs": [
        {
          "output_type": "execute_result",
          "data": {
            "text/plain": [
              "murder      float64\n",
              "robbery     float64\n",
              "larceny     float64\n",
              "burglary    float64\n",
              "arson       float64\n",
              "dtype: object"
            ]
          },
          "metadata": {
            "tags": []
          },
          "execution_count": 33
        }
      ]
    },
    {
      "metadata": {
        "id": "fRdiwuKFmzCA",
        "colab_type": "code",
        "colab": {}
      },
      "cell_type": "code",
      "source": [
        "import statsmodels.formula.api as smf\n",
        "from statsmodels.sandbox.regression.predstd import wls_prediction_std\n",
        "\n",
        "linear_formula = 'propertyCrime ~ population+population2+murder+robbery+larceny+burglary+arson'\n",
        "\n",
        "# Fit the model to our data using the formula.\n",
        "lm = smf.ols(formula=linear_formula, data=crime).fit()"
      ],
      "execution_count": 0,
      "outputs": []
    },
    {
      "metadata": {
        "id": "0g5vgRoUoZzB",
        "colab_type": "code",
        "colab": {
          "base_uri": "https://localhost:8080/",
          "height": 170
        },
        "outputId": "96549e1e-0fee-4fad-815a-74a52563bf5c"
      },
      "cell_type": "code",
      "source": [
        "lm.params"
      ],
      "execution_count": 42,
      "outputs": [
        {
          "output_type": "execute_result",
          "data": {
            "text/plain": [
              "Intercept     -5.664224e-01\n",
              "population     9.939929e-05\n",
              "population2    3.170214e-09\n",
              "murder         3.221233e+00\n",
              "robbery        3.221233e+00\n",
              "larceny        9.989170e-01\n",
              "burglary       1.112832e+00\n",
              "arson          2.051102e-01\n",
              "dtype: float64"
            ]
          },
          "metadata": {
            "tags": []
          },
          "execution_count": 42
        }
      ]
    },
    {
      "metadata": {
        "id": "hW6BgvNNocly",
        "colab_type": "code",
        "colab": {
          "base_uri": "https://localhost:8080/",
          "height": 170
        },
        "outputId": "0d257ed9-84f4-4af6-9272-d52c6ce36117"
      },
      "cell_type": "code",
      "source": [
        "lm.pvalues"
      ],
      "execution_count": 43,
      "outputs": [
        {
          "output_type": "execute_result",
          "data": {
            "text/plain": [
              "Intercept       3.236795e-01\n",
              "population      1.959091e-01\n",
              "population2     3.364639e-19\n",
              "murder          3.827149e-25\n",
              "robbery         3.827149e-25\n",
              "larceny        1.313499e-214\n",
              "burglary       6.378756e-140\n",
              "arson           5.185159e-01\n",
              "dtype: float64"
            ]
          },
          "metadata": {
            "tags": []
          },
          "execution_count": 43
        }
      ]
    },
    {
      "metadata": {
        "id": "ceUfpQVWofpO",
        "colab_type": "code",
        "colab": {
          "base_uri": "https://localhost:8080/",
          "height": 34
        },
        "outputId": "669fb961-9a9a-4465-876f-52d391e0565f"
      },
      "cell_type": "code",
      "source": [
        "lm.rsquared"
      ],
      "execution_count": 44,
      "outputs": [
        {
          "output_type": "execute_result",
          "data": {
            "text/plain": [
              "0.9997568933618834"
            ]
          },
          "metadata": {
            "tags": []
          },
          "execution_count": 44
        }
      ]
    },
    {
      "metadata": {
        "id": "TMP5RGc5uVJb",
        "colab_type": "code",
        "colab": {
          "base_uri": "https://localhost:8080/",
          "height": 272
        },
        "outputId": "352928d8-cf30-4798-b38c-80eba236d0df"
      },
      "cell_type": "code",
      "source": [
        "X2 = crime[['population','population2', 'murder','robbery','larceny', 'burglary']]\n",
        "\n",
        "# impute 0 to nans\n",
        "X2.fillna(value=0, inplace= True)\n",
        "\n",
        "# https://docs.scipy.org/doc/numpy/reference/generated/numpy.nan_to_num.html\n",
        "np.nan_to_num(Y, copy=False)\n",
        "\n",
        "regr.fit(X2,Y)\n",
        "\n",
        "# Inspect the results.\n",
        "print('\\nCoefficients: \\n', regr.coef_)\n",
        "print('\\nIntercept: \\n', regr.intercept_)\n",
        "print('\\nR-squared:')\n",
        "print(regr.score(X2, Y))"
      ],
      "execution_count": 49,
      "outputs": [
        {
          "output_type": "stream",
          "text": [
            "\n",
            "Coefficients: \n",
            " [[ 3.59734246e-02 -4.28336829e-09 -3.25181058e+01 -3.25181058e+01\n",
            "  -7.95055904e-01  1.27166000e+00]]\n",
            "\n",
            "Intercept: \n",
            " [-79.41603776]\n",
            "\n",
            "R-squared:\n",
            "0.8194728056047093\n"
          ],
          "name": "stdout"
        },
        {
          "output_type": "stream",
          "text": [
            "/usr/local/lib/python3.6/dist-packages/pandas/core/frame.py:3035: SettingWithCopyWarning: \n",
            "A value is trying to be set on a copy of a slice from a DataFrame\n",
            "\n",
            "See the caveats in the documentation: http://pandas.pydata.org/pandas-docs/stable/indexing.html#indexing-view-versus-copy\n",
            "  downcast=downcast, **kwargs)\n"
          ],
          "name": "stderr"
        }
      ]
    }
  ]
}