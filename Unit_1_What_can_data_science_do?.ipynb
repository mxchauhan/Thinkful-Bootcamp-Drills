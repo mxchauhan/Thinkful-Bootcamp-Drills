{
  "nbformat": 4,
  "nbformat_minor": 0,
  "metadata": {
    "colab": {
      "name": "Unit 1 - What can data science do?.ipynb",
      "version": "0.3.2",
      "provenance": [],
      "collapsed_sections": [],
      "include_colab_link": true
    }
  },
  "cells": [
    {
      "cell_type": "markdown",
      "metadata": {
        "id": "view-in-github",
        "colab_type": "text"
      },
      "source": [
        "[View in Colaboratory](https://colab.research.google.com/github/mxchauhan/Thinkful-Bootcamp-Drills/blob/master/Unit_1_What_can_data_science_do%3F.ipynb)"
      ]
    },
    {
      "metadata": {
        "id": "RHvLEO30KkLN",
        "colab_type": "text"
      },
      "cell_type": "markdown",
      "source": [
        "**1) You work at an e-commerce company that sells three goods: widgets, doodads, and fizzbangs. The head of advertising asks you which they should feature in their new advertising campaign. You have data on individual visitors' sessions (activity on a website, pageviews, and purchases), as well as whether or not those users converted from an advertisement for that session. You also have the cost and price information for the goods.**"
      ]
    },
    {
      "metadata": {
        "id": "5t1rEU-FKvHO",
        "colab_type": "text"
      },
      "cell_type": "markdown",
      "source": [
        "To determine which product to feature on the advertising campaign, a series of t-tests can be done.  For each product, a t-test should be preformed to determine if there is a significant difference between the number of purchases of the group which was exposed to  the advertisement campaign compared to the group which was not.  This may be able to tell whether or not the advertisement contributes to significant difference in purchases for each product.\n",
        ">\n",
        "The total purchase amount per session per product should also be calculated.  T-tests should then also be done across the different products to determine if there is a significant difference between the total purchase amount of one product compared to another product.  This may be able to tell which product provides a significant difference in revenue.\n",
        ">\n",
        "A t-test can also be done to see if there is a signifcant difference between the number of pageviews between the group which converted from an advertisement against the group which did not.  This may be able to tell whether the advertisement is actually successsful in attracting viewers or not.\n",
        ">\n",
        "Finally, the correlation can be determined between purchases made and activity on the website.  The correlation found can also be compared between the advertisement vs. non-advertisement groups.  This can show whether there is a relationship between the two variables and whether the relationship is stronger in a particular group."
      ]
    },
    {
      "metadata": {
        "id": "149NhLUHR7sg",
        "colab_type": "text"
      },
      "cell_type": "markdown",
      "source": [
        "**2) You work at a web design company that offers to build websites for clients. Signups have slowed, and you are tasked with finding out why. The onboarding funnel has three steps: email and password signup, plan choice, and payment. On a user level you have information on what steps they have completed as well as timestamps for all of those events for the past 3 years. You also have information on marketing spend on a weekly level.**"
      ]
    },
    {
      "metadata": {
        "id": "bOPF9PNvUB8W",
        "colab_type": "text"
      },
      "cell_type": "markdown",
      "source": [
        "Each step should also be analyzed to determine if there is a particular step at which the user may be stopping.  We can calculate which percentage of clients go onto the next step and analyze how this has varied overtime.  This may be able to tell at which step users are stopping.  For example, if there is a significant difference between email/password signups over time, but the percentage of plan choices selected is the same, there may be something causing users to be less inclined to even make an initial account.\n",
        ">\n",
        "To determine if there is a relationship between signups and marketing spending, the correlation between the variables, marketing spend and  payment can be determined.  If a relationship is found, a t-test can be performed to see if there was a significant difference between when marketing spending was higher in comparison to when it was lower.\n",
        ">\n",
        "T-tests can also be done across plan-choices to determine if there is a significant difference in the plan choice.  This may be able to tell whether there is a preference in plan choice.  The selection of plans would also be plotted across time to visualize the trends in selection across time."
      ]
    },
    {
      "metadata": {
        "id": "GNb9l6A-olJx",
        "colab_type": "text"
      },
      "cell_type": "markdown",
      "source": [
        "**3) You work at a hotel website and currently the website ranks search results by price. For simplicity's sake, let's say it's a website for one city with 100 hotels. You are tasked with proposing a better ranking system. You have session information, price information for the hotels, and whether each hotel is currently available.**"
      ]
    },
    {
      "metadata": {
        "id": "C-ttKlH0GeC-",
        "colab_type": "text"
      },
      "cell_type": "markdown",
      "source": [
        "We can assume that it's time spent on the website looking at the current hotel.\n",
        ">\n",
        "To better rank the hotels, we can use the time spent looking at the hotel to provide the viewer with hotels that have similar characteristics and rank these by price.  Hotels where are not avaialble should be ranked at the bottom as these would not be desireable and would simply add clutter to the list of hotels."
      ]
    },
    {
      "metadata": {
        "id": "4BYH7hgOo767",
        "colab_type": "text"
      },
      "cell_type": "markdown",
      "source": [
        "**4) You work at a social network, and the management is worried about churn (users stopping using the product). You are tasked with finding out if their churn is atypical. You have three years of data for users with an entry for every time they've logged in, including the timestamp and length of session.**"
      ]
    },
    {
      "metadata": {
        "id": "9sRK1bcH7Oxr",
        "colab_type": "text"
      },
      "cell_type": "markdown",
      "source": [
        "To visualize user activity over the past three years, the average length of sessions as well as total number of logins can be plotted over time.  This will help to get a better visual of how user activity has changed overtime and if there were any points at which it decreased or increased.\n",
        ">\n",
        "We can also determine the amount of time between log-ins and also plot this over time to see if the amount of time between sessions has increased or decreased over time.  If atypical trends are seen, t-tests can be conducted to see if there are signifcant differences between the groups.\n"
      ]
    }
  ]
}