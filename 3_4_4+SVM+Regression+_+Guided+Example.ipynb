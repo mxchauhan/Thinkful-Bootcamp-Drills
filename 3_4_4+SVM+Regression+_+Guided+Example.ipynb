{
  "nbformat": 4,
  "nbformat_minor": 0,
  "metadata": {
    "colab": {
      "name": "3.4.4+SVM+Regression+-+Guided+Example.ipynb",
      "version": "0.3.2",
      "provenance": [],
      "include_colab_link": true
    },
    "kernelspec": {
      "display_name": "Python 3",
      "language": "python",
      "name": "python3"
    }
  },
  "cells": [
    {
      "cell_type": "markdown",
      "metadata": {
        "id": "view-in-github",
        "colab_type": "text"
      },
      "source": [
        "[View in Colaboratory](https://colab.research.google.com/github/mxchauhan/Thinkful-Bootcamp-Drills/blob/master/3_4_4+SVM+Regression+_+Guided+Example.ipynb)"
      ]
    },
    {
      "metadata": {
        "run_control": {
          "frozen": false,
          "read_only": false
        },
        "id": "B6mQ3OlSlUn1",
        "colab_type": "code",
        "colab": {}
      },
      "cell_type": "code",
      "source": [
        "import numpy as np\n",
        "import pandas as pd\n",
        "import scipy\n",
        "import matplotlib.pyplot as plt\n",
        "import seaborn as sns\n",
        "%matplotlib inline"
      ],
      "execution_count": 0,
      "outputs": []
    },
    {
      "metadata": {
        "run_control": {
          "frozen": false,
          "read_only": false
        },
        "id": "rK0B_s2ilUoB",
        "colab_type": "text"
      },
      "cell_type": "markdown",
      "source": [
        "Now it's time for another guided example. This time we're going to look at recipes. Specifically we'll use the epicurious dataset, which has a collection of recipes, key terms and ingredients, and their ratings.\n",
        "\n",
        "What we want to see is if we can use the ingredient and keyword list to predict the rating. For someone writing a cookbook this could be really useful information that could help them choose which recipes to include because they're more likely to be enjoyed and therefore make the book more likely to be successful.\n",
        "\n",
        "First let's load the dataset. It's [available on Kaggle](https://www.kaggle.com/hugodarwood/epirecipes). We'll use the csv file here and as pull out column names and some summary statistics for ratings."
      ]
    },
    {
      "metadata": {
        "id": "yBrn00vo631Z",
        "colab_type": "code",
        "colab": {
          "resources": {
            "http://localhost:8080/nbextensions/google.colab/files.js": {
              "data": "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",
              "ok": true,
              "headers": [
                [
                  "content-type",
                  "application/javascript"
                ]
              ],
              "status": 200,
              "status_text": ""
            }
          },
          "base_uri": "https://localhost:8080/",
          "height": 72
        },
        "outputId": "2c9f868a-abae-4241-e75f-06498e0b010b"
      },
      "cell_type": "code",
      "source": [
        "from google.colab import files\n",
        "uplodaded = files.upload()"
      ],
      "execution_count": 4,
      "outputs": [
        {
          "output_type": "display_data",
          "data": {
            "text/html": [
              "\n",
              "     <input type=\"file\" id=\"files-7dfcde76-019b-4020-966d-7d9c574f26c1\" name=\"files[]\" multiple disabled />\n",
              "     <output id=\"result-7dfcde76-019b-4020-966d-7d9c574f26c1\">\n",
              "      Upload widget is only available when the cell has been executed in the\n",
              "      current browser session. Please rerun this cell to enable.\n",
              "      </output>\n",
              "      <script src=\"/nbextensions/google.colab/files.js\"></script> "
            ],
            "text/plain": [
              "<IPython.core.display.HTML object>"
            ]
          },
          "metadata": {
            "tags": []
          }
        },
        {
          "output_type": "stream",
          "text": [
            "Saving epi_r.csv to epi_r (2).csv\n"
          ],
          "name": "stdout"
        }
      ]
    },
    {
      "metadata": {
        "run_control": {
          "frozen": false,
          "read_only": false
        },
        "id": "iK9EbpktlUoE",
        "colab_type": "code",
        "colab": {}
      },
      "cell_type": "code",
      "source": [
        "raw_data = pd.read_csv('epi_r.csv')"
      ],
      "execution_count": 0,
      "outputs": []
    },
    {
      "metadata": {
        "run_control": {
          "frozen": false,
          "read_only": false
        },
        "scrolled": true,
        "id": "6ZLwNBtvlUoO",
        "colab_type": "code",
        "colab": {
          "base_uri": "https://localhost:8080/",
          "height": 11577
        },
        "outputId": "94cf3e82-1826-4869-fd03-6a5317d7a882"
      },
      "cell_type": "code",
      "source": [
        "list(raw_data.columns)"
      ],
      "execution_count": 6,
      "outputs": [
        {
          "output_type": "execute_result",
          "data": {
            "text/plain": [
              "['title',\n",
              " 'rating',\n",
              " 'calories',\n",
              " 'protein',\n",
              " 'fat',\n",
              " 'sodium',\n",
              " '#cakeweek',\n",
              " '#wasteless',\n",
              " '22-minute meals',\n",
              " '3-ingredient recipes',\n",
              " '30 days of groceries',\n",
              " 'advance prep required',\n",
              " 'alabama',\n",
              " 'alaska',\n",
              " 'alcoholic',\n",
              " 'almond',\n",
              " 'amaretto',\n",
              " 'anchovy',\n",
              " 'anise',\n",
              " 'anniversary',\n",
              " 'anthony bourdain',\n",
              " 'aperitif',\n",
              " 'appetizer',\n",
              " 'apple',\n",
              " 'apple juice',\n",
              " 'apricot',\n",
              " 'arizona',\n",
              " 'artichoke',\n",
              " 'arugula',\n",
              " 'asian pear',\n",
              " 'asparagus',\n",
              " 'aspen',\n",
              " 'atlanta',\n",
              " 'australia',\n",
              " 'avocado',\n",
              " 'back to school',\n",
              " 'backyard bbq',\n",
              " 'bacon',\n",
              " 'bake',\n",
              " 'banana',\n",
              " 'barley',\n",
              " 'basil',\n",
              " 'bass',\n",
              " 'bastille day',\n",
              " 'bean',\n",
              " 'beef',\n",
              " 'beef rib',\n",
              " 'beef shank',\n",
              " 'beef tenderloin',\n",
              " 'beer',\n",
              " 'beet',\n",
              " 'bell pepper',\n",
              " 'berry',\n",
              " 'beverly hills',\n",
              " 'birthday',\n",
              " 'biscuit',\n",
              " 'bitters',\n",
              " 'blackberry',\n",
              " 'blender',\n",
              " 'blue cheese',\n",
              " 'blueberry',\n",
              " 'boil',\n",
              " 'bok choy',\n",
              " 'bon appétit',\n",
              " 'bon app��tit',\n",
              " 'boston',\n",
              " 'bourbon',\n",
              " 'braise',\n",
              " 'bran',\n",
              " 'brandy',\n",
              " 'bread',\n",
              " 'breadcrumbs',\n",
              " 'breakfast',\n",
              " 'brie',\n",
              " 'brine',\n",
              " 'brisket',\n",
              " 'broccoli',\n",
              " 'broccoli rabe',\n",
              " 'broil',\n",
              " 'brooklyn',\n",
              " 'brown rice',\n",
              " 'brownie',\n",
              " 'brunch',\n",
              " 'brussel sprout',\n",
              " 'buffalo',\n",
              " 'buffet',\n",
              " 'bulgaria',\n",
              " 'bulgur',\n",
              " 'burrito',\n",
              " 'butter',\n",
              " 'buttermilk',\n",
              " 'butternut squash',\n",
              " 'butterscotch/caramel',\n",
              " 'cabbage',\n",
              " 'cake',\n",
              " 'california',\n",
              " 'calvados',\n",
              " 'cambridge',\n",
              " 'campari',\n",
              " 'camping',\n",
              " 'canada',\n",
              " 'candy',\n",
              " 'candy thermometer',\n",
              " 'cantaloupe',\n",
              " 'capers',\n",
              " 'caraway',\n",
              " 'cardamom',\n",
              " 'carrot',\n",
              " 'cashew',\n",
              " 'casserole/gratin',\n",
              " 'cauliflower',\n",
              " 'caviar',\n",
              " 'celery',\n",
              " 'chambord',\n",
              " 'champagne',\n",
              " 'chard',\n",
              " 'chartreuse',\n",
              " 'cheddar',\n",
              " 'cheese',\n",
              " 'cherry',\n",
              " 'chestnut',\n",
              " 'chicago',\n",
              " 'chicken',\n",
              " 'chickpea',\n",
              " 'chile',\n",
              " 'chile pepper',\n",
              " 'chili',\n",
              " 'chill',\n",
              " 'chive',\n",
              " 'chocolate',\n",
              " 'christmas',\n",
              " 'christmas eve',\n",
              " 'cilantro',\n",
              " 'cinco de mayo',\n",
              " 'cinnamon',\n",
              " 'citrus',\n",
              " 'clam',\n",
              " 'clove',\n",
              " 'cobbler/crumble',\n",
              " 'cocktail',\n",
              " 'cocktail party',\n",
              " 'coconut',\n",
              " 'cod',\n",
              " 'coffee',\n",
              " 'coffee grinder',\n",
              " 'cognac/armagnac',\n",
              " 'collard greens',\n",
              " 'colorado',\n",
              " 'columbus',\n",
              " 'condiment',\n",
              " 'condiment/spread',\n",
              " 'connecticut',\n",
              " 'cook like a diner',\n",
              " 'cookbook critic',\n",
              " 'cookie',\n",
              " 'cookies',\n",
              " 'coriander',\n",
              " 'corn',\n",
              " 'cornmeal',\n",
              " 'costa mesa',\n",
              " 'cottage cheese',\n",
              " 'couscous',\n",
              " 'crab',\n",
              " 'cranberry',\n",
              " 'cranberry sauce',\n",
              " 'cream cheese',\n",
              " 'créme de cacao',\n",
              " 'crêpe',\n",
              " 'cr��me de cacao',\n",
              " 'cuba',\n",
              " 'cucumber',\n",
              " 'cumin',\n",
              " 'cupcake',\n",
              " 'currant',\n",
              " 'curry',\n",
              " 'custard',\n",
              " 'dairy',\n",
              " 'dairy free',\n",
              " 'dallas',\n",
              " 'date',\n",
              " 'deep-fry',\n",
              " 'denver',\n",
              " 'dessert',\n",
              " 'digestif',\n",
              " 'dill',\n",
              " 'dinner',\n",
              " 'dip',\n",
              " 'diwali',\n",
              " 'dominican republic',\n",
              " 'dorie greenspan',\n",
              " 'double boiler',\n",
              " 'dried fruit',\n",
              " 'drink',\n",
              " 'drinks',\n",
              " 'duck',\n",
              " 'easter',\n",
              " 'eau de vie',\n",
              " 'edible gift',\n",
              " 'egg',\n",
              " 'egg nog',\n",
              " 'eggplant',\n",
              " 'egypt',\n",
              " 'emeril lagasse',\n",
              " 'endive',\n",
              " 'engagement party',\n",
              " 'england',\n",
              " 'entertaining',\n",
              " 'epi + ushg',\n",
              " 'epi loves the microwave',\n",
              " 'escarole',\n",
              " 'fall',\n",
              " 'family reunion',\n",
              " 'fat free',\n",
              " \"father's day\",\n",
              " 'fennel',\n",
              " 'feta',\n",
              " 'fig',\n",
              " 'fish',\n",
              " 'flaming hot summer',\n",
              " 'flat bread',\n",
              " 'florida',\n",
              " 'fontina',\n",
              " 'food processor',\n",
              " 'fortified wine',\n",
              " 'fourth of july',\n",
              " 'france',\n",
              " 'frangelico',\n",
              " 'frankenrecipe',\n",
              " 'freeze/chill',\n",
              " 'freezer food',\n",
              " 'friendsgiving',\n",
              " 'frittata',\n",
              " 'fritter',\n",
              " 'frozen dessert',\n",
              " 'fruit',\n",
              " 'fruit juice',\n",
              " 'fry',\n",
              " 'game',\n",
              " 'garlic',\n",
              " 'georgia',\n",
              " 'germany',\n",
              " 'gin',\n",
              " 'ginger',\n",
              " 'goat cheese',\n",
              " 'goose',\n",
              " 'gouda',\n",
              " 'gourmet',\n",
              " 'graduation',\n",
              " 'grains',\n",
              " 'grand marnier',\n",
              " 'granola',\n",
              " 'grape',\n",
              " 'grapefruit',\n",
              " 'grappa',\n",
              " 'green bean',\n",
              " 'green onion/scallion',\n",
              " 'grill',\n",
              " 'grill/barbecue',\n",
              " 'ground beef',\n",
              " 'ground lamb',\n",
              " 'guam',\n",
              " 'guava',\n",
              " 'haiti',\n",
              " 'halibut',\n",
              " 'halloween',\n",
              " 'ham',\n",
              " 'hamburger',\n",
              " 'hanukkah',\n",
              " 'harpercollins',\n",
              " 'hawaii',\n",
              " 'hazelnut',\n",
              " 'healdsburg',\n",
              " 'healthy',\n",
              " 'herb',\n",
              " 'high fiber',\n",
              " 'hollywood',\n",
              " 'hominy/cornmeal/masa',\n",
              " 'honey',\n",
              " 'honeydew',\n",
              " \"hors d'oeuvre\",\n",
              " 'horseradish',\n",
              " 'hot drink',\n",
              " 'hot pepper',\n",
              " 'house & garden',\n",
              " 'house cocktail',\n",
              " 'houston',\n",
              " 'hummus',\n",
              " 'ice cream',\n",
              " 'ice cream machine',\n",
              " 'iced coffee',\n",
              " 'iced tea',\n",
              " 'idaho',\n",
              " 'illinois',\n",
              " 'indiana',\n",
              " 'iowa',\n",
              " 'ireland',\n",
              " 'israel',\n",
              " 'italy',\n",
              " 'jalapeño',\n",
              " 'jam or jelly',\n",
              " 'jamaica',\n",
              " 'japan',\n",
              " 'jerusalem artichoke',\n",
              " 'juicer',\n",
              " 'jícama',\n",
              " 'kahlúa',\n",
              " 'kale',\n",
              " 'kansas',\n",
              " 'kansas city',\n",
              " 'kentucky',\n",
              " 'kentucky derby',\n",
              " 'kid-friendly',\n",
              " 'kidney friendly',\n",
              " 'kirsch',\n",
              " 'kitchen olympics',\n",
              " 'kiwi',\n",
              " 'kosher',\n",
              " 'kosher for passover',\n",
              " 'kumquat',\n",
              " 'kwanzaa',\n",
              " 'labor day',\n",
              " 'lamb',\n",
              " 'lamb chop',\n",
              " 'lamb shank',\n",
              " 'lancaster',\n",
              " 'las vegas',\n",
              " 'lasagna',\n",
              " 'leafy green',\n",
              " 'leek',\n",
              " 'legume',\n",
              " 'lemon',\n",
              " 'lemon juice',\n",
              " 'lemongrass',\n",
              " 'lentil',\n",
              " 'lettuce',\n",
              " 'lima bean',\n",
              " 'lime',\n",
              " 'lime juice',\n",
              " 'lingonberry',\n",
              " 'liqueur',\n",
              " 'lobster',\n",
              " 'london',\n",
              " 'long beach',\n",
              " 'los angeles',\n",
              " 'louisiana',\n",
              " 'louisville',\n",
              " 'low cal',\n",
              " 'low carb',\n",
              " 'low cholesterol',\n",
              " 'low fat',\n",
              " 'low sodium',\n",
              " 'low sugar',\n",
              " 'low/no sugar',\n",
              " 'lunar new year',\n",
              " 'lunch',\n",
              " 'lychee',\n",
              " 'macadamia nut',\n",
              " 'macaroni and cheese',\n",
              " 'maine',\n",
              " 'mandoline',\n",
              " 'mango',\n",
              " 'maple syrup',\n",
              " 'mardi gras',\n",
              " 'margarita',\n",
              " 'marinade',\n",
              " 'marinate',\n",
              " 'marsala',\n",
              " 'marscarpone',\n",
              " 'marshmallow',\n",
              " 'martini',\n",
              " 'maryland',\n",
              " 'massachusetts',\n",
              " 'mayonnaise',\n",
              " 'meat',\n",
              " 'meatball',\n",
              " 'meatloaf',\n",
              " 'melon',\n",
              " 'mexico',\n",
              " 'mezcal',\n",
              " 'miami',\n",
              " 'michigan',\n",
              " 'microwave',\n",
              " 'midori',\n",
              " 'milk/cream',\n",
              " 'minneapolis',\n",
              " 'minnesota',\n",
              " 'mint',\n",
              " 'mississippi',\n",
              " 'missouri',\n",
              " 'mixer',\n",
              " 'molasses',\n",
              " 'monterey jack',\n",
              " 'mortar and pestle',\n",
              " \"mother's day\",\n",
              " 'mozzarella',\n",
              " 'muffin',\n",
              " 'mushroom',\n",
              " 'mussel',\n",
              " 'mustard',\n",
              " 'mustard greens',\n",
              " 'nancy silverton',\n",
              " 'nebraska',\n",
              " 'nectarine',\n",
              " 'new hampshire',\n",
              " 'new jersey',\n",
              " 'new mexico',\n",
              " 'new orleans',\n",
              " \"new year's day\",\n",
              " \"new year's eve\",\n",
              " 'new york',\n",
              " 'no meat, no problem',\n",
              " 'no sugar added',\n",
              " 'no-cook',\n",
              " 'non-alcoholic',\n",
              " 'noodle',\n",
              " 'north carolina',\n",
              " 'nut',\n",
              " 'nutmeg',\n",
              " 'oat',\n",
              " 'oatmeal',\n",
              " 'octopus',\n",
              " 'ohio',\n",
              " 'oklahoma',\n",
              " 'okra',\n",
              " 'oktoberfest',\n",
              " 'olive',\n",
              " 'omelet',\n",
              " 'one-pot meal',\n",
              " 'onion',\n",
              " 'orange',\n",
              " 'orange juice',\n",
              " 'oregano',\n",
              " 'oregon',\n",
              " 'organic',\n",
              " 'orzo',\n",
              " 'oscars',\n",
              " 'oyster',\n",
              " 'pacific palisades',\n",
              " 'paleo',\n",
              " 'pan-fry',\n",
              " 'pancake',\n",
              " 'papaya',\n",
              " 'paprika',\n",
              " 'parade',\n",
              " 'paris',\n",
              " 'parmesan',\n",
              " 'parsley',\n",
              " 'parsnip',\n",
              " 'party',\n",
              " 'pasadena',\n",
              " 'passion fruit',\n",
              " 'passover',\n",
              " 'pasta',\n",
              " 'pasta maker',\n",
              " 'pastry',\n",
              " 'pea',\n",
              " 'peach',\n",
              " 'peanut',\n",
              " 'peanut butter',\n",
              " 'peanut free',\n",
              " 'pear',\n",
              " 'pecan',\n",
              " 'pennsylvania',\n",
              " 'pepper',\n",
              " 'pernod',\n",
              " 'persian new year',\n",
              " 'persimmon',\n",
              " 'peru',\n",
              " 'pescatarian',\n",
              " 'philippines',\n",
              " 'phyllo/puff pastry dough',\n",
              " 'pickles',\n",
              " 'picnic',\n",
              " 'pie',\n",
              " 'pine nut',\n",
              " 'pineapple',\n",
              " 'pistachio',\n",
              " 'pittsburgh',\n",
              " 'pizza',\n",
              " 'plantain',\n",
              " 'plum',\n",
              " 'poach',\n",
              " 'poblano',\n",
              " 'poker/game night',\n",
              " 'pomegranate',\n",
              " 'pomegranate juice',\n",
              " 'poppy',\n",
              " 'pork',\n",
              " 'pork chop',\n",
              " 'pork rib',\n",
              " 'pork tenderloin',\n",
              " 'port',\n",
              " 'portland',\n",
              " 'pot pie',\n",
              " 'potato',\n",
              " 'potato salad',\n",
              " 'potluck',\n",
              " 'poultry',\n",
              " 'poultry sausage',\n",
              " 'pressure cooker',\n",
              " 'prosciutto',\n",
              " 'providence',\n",
              " 'prune',\n",
              " 'pumpkin',\n",
              " 'punch',\n",
              " 'purim',\n",
              " 'quail',\n",
              " 'quiche',\n",
              " 'quick & easy',\n",
              " 'quick and healthy',\n",
              " 'quince',\n",
              " 'quinoa',\n",
              " 'rabbit',\n",
              " 'rack of lamb',\n",
              " 'radicchio',\n",
              " 'radish',\n",
              " 'raisin',\n",
              " 'ramadan',\n",
              " 'ramekin',\n",
              " 'raspberry',\n",
              " 'raw',\n",
              " 'red wine',\n",
              " 'rhode island',\n",
              " 'rhubarb',\n",
              " 'rice',\n",
              " 'ricotta',\n",
              " 'roast',\n",
              " 'root vegetable',\n",
              " 'rosemary',\n",
              " 'rosh hashanah/yom kippur',\n",
              " 'rosé',\n",
              " 'rub',\n",
              " 'rum',\n",
              " 'rutabaga',\n",
              " 'rye',\n",
              " 'saffron',\n",
              " 'sage',\n",
              " 'sake',\n",
              " 'salad',\n",
              " 'salad dressing',\n",
              " 'salmon',\n",
              " 'salsa',\n",
              " 'san francisco',\n",
              " 'sandwich',\n",
              " 'sandwich theory',\n",
              " 'sangria',\n",
              " 'santa monica',\n",
              " 'sardine',\n",
              " 'sauce',\n",
              " 'sausage',\n",
              " 'sauté',\n",
              " 'scallop',\n",
              " 'scotch',\n",
              " 'seafood',\n",
              " 'seattle',\n",
              " 'seed',\n",
              " 'self',\n",
              " 'semolina',\n",
              " 'sesame',\n",
              " 'sesame oil',\n",
              " 'shallot',\n",
              " 'shavuot',\n",
              " 'shellfish',\n",
              " 'sherry',\n",
              " 'shower',\n",
              " 'shrimp',\n",
              " 'side',\n",
              " 'simmer',\n",
              " 'skewer',\n",
              " 'slow cooker',\n",
              " 'smoker',\n",
              " 'smoothie',\n",
              " 'snapper',\n",
              " 'sorbet',\n",
              " 'soufflé/meringue',\n",
              " 'soup/stew',\n",
              " 'sour cream',\n",
              " 'sourdough',\n",
              " 'south carolina',\n",
              " 'soy',\n",
              " 'soy free',\n",
              " 'soy sauce',\n",
              " 'spain',\n",
              " 'sparkling wine',\n",
              " 'spice',\n",
              " 'spinach',\n",
              " 'spirit',\n",
              " 'spring',\n",
              " 'spritzer',\n",
              " 'squash',\n",
              " 'squid',\n",
              " 'st. louis',\n",
              " \"st. patrick's day\",\n",
              " 'steak',\n",
              " 'steam',\n",
              " 'stew',\n",
              " 'stir-fry',\n",
              " 'stock',\n",
              " 'strawberry',\n",
              " 'stuffing/dressing',\n",
              " 'sugar conscious',\n",
              " 'sugar snap pea',\n",
              " 'sukkot',\n",
              " 'summer',\n",
              " 'super bowl',\n",
              " 'suzanne goin',\n",
              " 'sweet potato/yam',\n",
              " 'swiss cheese',\n",
              " 'switzerland',\n",
              " 'swordfish',\n",
              " 'taco',\n",
              " 'tailgating',\n",
              " 'tamarind',\n",
              " 'tangerine',\n",
              " 'tapioca',\n",
              " 'tarragon',\n",
              " 'tart',\n",
              " 'tea',\n",
              " 'tennessee',\n",
              " 'tequila',\n",
              " 'tested & improved',\n",
              " 'texas',\n",
              " 'thanksgiving',\n",
              " 'thyme',\n",
              " 'tilapia',\n",
              " 'tofu',\n",
              " 'tomatillo',\n",
              " 'tomato',\n",
              " 'tortillas',\n",
              " 'tree nut',\n",
              " 'tree nut free',\n",
              " 'triple sec',\n",
              " 'tropical fruit',\n",
              " 'trout',\n",
              " 'tuna',\n",
              " 'turnip',\n",
              " 'utah',\n",
              " \"valentine's day\",\n",
              " 'vanilla',\n",
              " 'veal',\n",
              " 'vegan',\n",
              " 'vegetable',\n",
              " 'vegetarian',\n",
              " 'venison',\n",
              " 'vermont',\n",
              " 'vermouth',\n",
              " 'vinegar',\n",
              " 'virginia',\n",
              " 'vodka',\n",
              " 'waffle',\n",
              " 'walnut',\n",
              " 'wasabi',\n",
              " 'washington',\n",
              " 'washington, d.c.',\n",
              " 'watercress',\n",
              " 'watermelon',\n",
              " 'wedding',\n",
              " 'weelicious',\n",
              " 'west virginia',\n",
              " 'westwood',\n",
              " 'wheat/gluten-free',\n",
              " 'whiskey',\n",
              " 'white wine',\n",
              " 'whole wheat',\n",
              " 'wild rice',\n",
              " 'windsor',\n",
              " 'wine',\n",
              " 'winter',\n",
              " 'wisconsin',\n",
              " 'wok',\n",
              " 'yellow squash',\n",
              " 'yogurt',\n",
              " 'yonkers',\n",
              " 'yuca',\n",
              " 'zucchini',\n",
              " 'cookbooks',\n",
              " 'leftovers',\n",
              " 'snack',\n",
              " 'snack week',\n",
              " 'turkey']"
            ]
          },
          "metadata": {
            "tags": []
          },
          "execution_count": 6
        }
      ]
    },
    {
      "metadata": {
        "run_control": {
          "frozen": false,
          "read_only": false
        },
        "scrolled": true,
        "id": "Y0eP9rdolUoX",
        "colab_type": "code",
        "colab": {
          "base_uri": "https://localhost:8080/",
          "height": 170
        },
        "outputId": "75ca2884-62c0-4525-e333-b306fa65d95c"
      },
      "cell_type": "code",
      "source": [
        "raw_data.rating.describe()"
      ],
      "execution_count": 7,
      "outputs": [
        {
          "output_type": "execute_result",
          "data": {
            "text/plain": [
              "count    20052.000000\n",
              "mean         3.714467\n",
              "std          1.340829\n",
              "min          0.000000\n",
              "25%          3.750000\n",
              "50%          4.375000\n",
              "75%          4.375000\n",
              "max          5.000000\n",
              "Name: rating, dtype: float64"
            ]
          },
          "metadata": {
            "tags": []
          },
          "execution_count": 7
        }
      ]
    },
    {
      "metadata": {
        "run_control": {
          "frozen": false,
          "read_only": false
        },
        "id": "wcTvdbpwlUog",
        "colab_type": "text"
      },
      "cell_type": "markdown",
      "source": [
        "We learn a few things from this analysis. From a ratings perspective, there are just over 20,000 recipes with an average rating of 3.71. What is interesting is that the 25th percentile is actually above the mean. This means there is likely some kind of outlier population. This makes sense when we think about reviews: some bad recipes may have very few very low reviews.\n",
        "\n",
        "Let's validate the idea a bit further with a histogram."
      ]
    },
    {
      "metadata": {
        "run_control": {
          "frozen": false,
          "read_only": false
        },
        "id": "oOAY35a7lUoh",
        "colab_type": "code",
        "colab": {
          "base_uri": "https://localhost:8080/",
          "height": 280
        },
        "outputId": "c87604d1-3c44-4db6-e9cb-7df85d8c9177"
      },
      "cell_type": "code",
      "source": [
        "raw_data.rating.hist(bins=20)\n",
        "plt.title('Histogram of Recipe Ratings')\n",
        "plt.show()"
      ],
      "execution_count": 8,
      "outputs": [
        {
          "output_type": "display_data",
          "data": {
            "image/png": "[encoded data removed]",
            "text/plain": [
              "<matplotlib.figure.Figure at 0x7f9ac36677b8>"
            ]
          },
          "metadata": {
            "tags": []
          }
        }
      ]
    },
    {
      "metadata": {
        "run_control": {
          "frozen": false,
          "read_only": false
        },
        "id": "ADsb7rculUoo",
        "colab_type": "text"
      },
      "cell_type": "markdown",
      "source": [
        "So a few things are shown in this histogram. Firstly there are sharp discontinutities. We don't have continuous data. No recipe has a 3.5 rating, for example. Also we see the anticipated increase at 0.\n",
        "\n",
        "Let's try a naive approach again, this time using SVM Regressor. But first, we'll have to do a bit of data cleaning."
      ]
    },
    {
      "metadata": {
        "run_control": {
          "frozen": false,
          "read_only": false
        },
        "id": "P_xmDuYhlUor",
        "colab_type": "code",
        "colab": {
          "base_uri": "https://localhost:8080/",
          "height": 102
        },
        "outputId": "465e4d31-830d-4c1b-e51d-8b02f77bb0a8"
      },
      "cell_type": "code",
      "source": [
        "# Count nulls \n",
        "null_count = raw_data.isnull().sum()\n",
        "null_count[null_count>0]"
      ],
      "execution_count": 9,
      "outputs": [
        {
          "output_type": "execute_result",
          "data": {
            "text/plain": [
              "calories    4117\n",
              "protein     4162\n",
              "fat         4183\n",
              "sodium      4119\n",
              "dtype: int64"
            ]
          },
          "metadata": {
            "tags": []
          },
          "execution_count": 9
        }
      ]
    },
    {
      "metadata": {
        "run_control": {
          "frozen": false,
          "read_only": false
        },
        "id": "uepONDJxlUox",
        "colab_type": "text"
      },
      "cell_type": "markdown",
      "source": [
        "What we can see right away is that nutrition information is not available for all goods. Now this would be an interesting data point, but let's focus on ingredients and keywords right now. So we'll actually drop the whole columns for calories, protein, fat, and sodium. We'll come back to nutrition information later."
      ]
    },
    {
      "metadata": {
        "run_control": {
          "frozen": false,
          "read_only": false
        },
        "id": "e3Ups8e4lUo0",
        "colab_type": "code",
        "colab": {
          "base_uri": "https://localhost:8080/",
          "height": 51
        },
        "outputId": "500e9a19-0df1-4e65-fb6b-8709418c3190"
      },
      "cell_type": "code",
      "source": [
        "from sklearn.svm import SVR\n",
        "svr = SVR()\n",
        "X = raw_data.drop(['rating', 'title', 'calories', 'protein', 'fat', 'sodium'], 1)\n",
        "Y = raw_data.rating\n",
        "svr.fit(X,Y)"
      ],
      "execution_count": 10,
      "outputs": [
        {
          "output_type": "execute_result",
          "data": {
            "text/plain": [
              "SVR(C=1.0, cache_size=200, coef0=0.0, degree=3, epsilon=0.1, gamma='auto',\n",
              "  kernel='rbf', max_iter=-1, shrinking=True, tol=0.001, verbose=False)"
            ]
          },
          "metadata": {
            "tags": []
          },
          "execution_count": 10
        }
      ]
    },
    {
      "metadata": {
        "id": "i7iIER2NfcfE",
        "colab_type": "code",
        "colab": {
          "base_uri": "https://localhost:8080/",
          "height": 250
        },
        "outputId": "92fdb4c9-6c26-4b0f-ee6c-fb5fa379c415"
      },
      "cell_type": "code",
      "source": [
        "X.head()"
      ],
      "execution_count": 11,
      "outputs": [
        {
          "output_type": "execute_result",
          "data": {
            "text/html": [
              "<div>\n",
              "<style scoped>\n",
              "    .dataframe tbody tr th:only-of-type {\n",
              "        vertical-align: middle;\n",
              "    }\n",
              "\n",
              "    .dataframe tbody tr th {\n",
              "        vertical-align: top;\n",
              "    }\n",
              "\n",
              "    .dataframe thead th {\n",
              "        text-align: right;\n",
              "    }\n",
              "</style>\n",
              "<table border=\"1\" class=\"dataframe\">\n",
              "  <thead>\n",
              "    <tr style=\"text-align: right;\">\n",
              "      <th></th>\n",
              "      <th>#cakeweek</th>\n",
              "      <th>#wasteless</th>\n",
              "      <th>22-minute meals</th>\n",
              "      <th>3-ingredient recipes</th>\n",
              "      <th>30 days of groceries</th>\n",
              "      <th>advance prep required</th>\n",
              "      <th>alabama</th>\n",
              "      <th>alaska</th>\n",
              "      <th>alcoholic</th>\n",
              "      <th>almond</th>\n",
              "      <th>...</th>\n",
              "      <th>yellow squash</th>\n",
              "      <th>yogurt</th>\n",
              "      <th>yonkers</th>\n",
              "      <th>yuca</th>\n",
              "      <th>zucchini</th>\n",
              "      <th>cookbooks</th>\n",
              "      <th>leftovers</th>\n",
              "      <th>snack</th>\n",
              "      <th>snack week</th>\n",
              "      <th>turkey</th>\n",
              "    </tr>\n",
              "  </thead>\n",
              "  <tbody>\n",
              "    <tr>\n",
              "      <th>0</th>\n",
              "      <td>0.0</td>\n",
              "      <td>0.0</td>\n",
              "      <td>0.0</td>\n",
              "      <td>0.0</td>\n",
              "      <td>0.0</td>\n",
              "      <td>0.0</td>\n",
              "      <td>0.0</td>\n",
              "      <td>0.0</td>\n",
              "      <td>0.0</td>\n",
              "      <td>0.0</td>\n",
              "      <td>...</td>\n",
              "      <td>0.0</td>\n",
              "      <td>0.0</td>\n",
              "      <td>0.0</td>\n",
              "      <td>0.0</td>\n",
              "      <td>0.0</td>\n",
              "      <td>0.0</td>\n",
              "      <td>0.0</td>\n",
              "      <td>0.0</td>\n",
              "      <td>0.0</td>\n",
              "      <td>1.0</td>\n",
              "    </tr>\n",
              "    <tr>\n",
              "      <th>1</th>\n",
              "      <td>0.0</td>\n",
              "      <td>0.0</td>\n",
              "      <td>0.0</td>\n",
              "      <td>0.0</td>\n",
              "      <td>0.0</td>\n",
              "      <td>0.0</td>\n",
              "      <td>0.0</td>\n",
              "      <td>0.0</td>\n",
              "      <td>0.0</td>\n",
              "      <td>0.0</td>\n",
              "      <td>...</td>\n",
              "      <td>0.0</td>\n",
              "      <td>0.0</td>\n",
              "      <td>0.0</td>\n",
              "      <td>0.0</td>\n",
              "      <td>0.0</td>\n",
              "      <td>0.0</td>\n",
              "      <td>0.0</td>\n",
              "      <td>0.0</td>\n",
              "      <td>0.0</td>\n",
              "      <td>0.0</td>\n",
              "    </tr>\n",
              "    <tr>\n",
              "      <th>2</th>\n",
              "      <td>0.0</td>\n",
              "      <td>0.0</td>\n",
              "      <td>0.0</td>\n",
              "      <td>0.0</td>\n",
              "      <td>0.0</td>\n",
              "      <td>0.0</td>\n",
              "      <td>0.0</td>\n",
              "      <td>0.0</td>\n",
              "      <td>0.0</td>\n",
              "      <td>0.0</td>\n",
              "      <td>...</td>\n",
              "      <td>0.0</td>\n",
              "      <td>0.0</td>\n",
              "      <td>0.0</td>\n",
              "      <td>0.0</td>\n",
              "      <td>0.0</td>\n",
              "      <td>0.0</td>\n",
              "      <td>0.0</td>\n",
              "      <td>0.0</td>\n",
              "      <td>0.0</td>\n",
              "      <td>0.0</td>\n",
              "    </tr>\n",
              "    <tr>\n",
              "      <th>3</th>\n",
              "      <td>0.0</td>\n",
              "      <td>0.0</td>\n",
              "      <td>0.0</td>\n",
              "      <td>0.0</td>\n",
              "      <td>0.0</td>\n",
              "      <td>0.0</td>\n",
              "      <td>0.0</td>\n",
              "      <td>0.0</td>\n",
              "      <td>0.0</td>\n",
              "      <td>0.0</td>\n",
              "      <td>...</td>\n",
              "      <td>0.0</td>\n",
              "      <td>0.0</td>\n",
              "      <td>0.0</td>\n",
              "      <td>0.0</td>\n",
              "      <td>0.0</td>\n",
              "      <td>0.0</td>\n",
              "      <td>0.0</td>\n",
              "      <td>0.0</td>\n",
              "      <td>0.0</td>\n",
              "      <td>0.0</td>\n",
              "    </tr>\n",
              "    <tr>\n",
              "      <th>4</th>\n",
              "      <td>0.0</td>\n",
              "      <td>0.0</td>\n",
              "      <td>0.0</td>\n",
              "      <td>0.0</td>\n",
              "      <td>0.0</td>\n",
              "      <td>0.0</td>\n",
              "      <td>0.0</td>\n",
              "      <td>0.0</td>\n",
              "      <td>0.0</td>\n",
              "      <td>0.0</td>\n",
              "      <td>...</td>\n",
              "      <td>0.0</td>\n",
              "      <td>0.0</td>\n",
              "      <td>0.0</td>\n",
              "      <td>0.0</td>\n",
              "      <td>0.0</td>\n",
              "      <td>0.0</td>\n",
              "      <td>0.0</td>\n",
              "      <td>0.0</td>\n",
              "      <td>0.0</td>\n",
              "      <td>0.0</td>\n",
              "    </tr>\n",
              "  </tbody>\n",
              "</table>\n",
              "<p>5 rows × 674 columns</p>\n",
              "</div>"
            ],
            "text/plain": [
              "   #cakeweek  #wasteless  22-minute meals  3-ingredient recipes  \\\n",
              "0        0.0         0.0              0.0                   0.0   \n",
              "1        0.0         0.0              0.0                   0.0   \n",
              "2        0.0         0.0              0.0                   0.0   \n",
              "3        0.0         0.0              0.0                   0.0   \n",
              "4        0.0         0.0              0.0                   0.0   \n",
              "\n",
              "   30 days of groceries  advance prep required  alabama  alaska  alcoholic  \\\n",
              "0                   0.0                    0.0      0.0     0.0        0.0   \n",
              "1                   0.0                    0.0      0.0     0.0        0.0   \n",
              "2                   0.0                    0.0      0.0     0.0        0.0   \n",
              "3                   0.0                    0.0      0.0     0.0        0.0   \n",
              "4                   0.0                    0.0      0.0     0.0        0.0   \n",
              "\n",
              "   almond   ...    yellow squash  yogurt  yonkers  yuca  zucchini  cookbooks  \\\n",
              "0     0.0   ...              0.0     0.0      0.0   0.0       0.0        0.0   \n",
              "1     0.0   ...              0.0     0.0      0.0   0.0       0.0        0.0   \n",
              "2     0.0   ...              0.0     0.0      0.0   0.0       0.0        0.0   \n",
              "3     0.0   ...              0.0     0.0      0.0   0.0       0.0        0.0   \n",
              "4     0.0   ...              0.0     0.0      0.0   0.0       0.0        0.0   \n",
              "\n",
              "   leftovers  snack  snack week  turkey  \n",
              "0        0.0    0.0         0.0     1.0  \n",
              "1        0.0    0.0         0.0     0.0  \n",
              "2        0.0    0.0         0.0     0.0  \n",
              "3        0.0    0.0         0.0     0.0  \n",
              "4        0.0    0.0         0.0     0.0  \n",
              "\n",
              "[5 rows x 674 columns]"
            ]
          },
          "metadata": {
            "tags": []
          },
          "execution_count": 11
        }
      ]
    },
    {
      "metadata": {
        "run_control": {
          "frozen": false,
          "read_only": false
        },
        "id": "sWA0J9q_lUo7",
        "colab_type": "text"
      },
      "cell_type": "markdown",
      "source": [
        "__Note that this actually takes quite a while to run, compared to some of the models we've done before. Be patient.__ It's because of the number of features we have.\n",
        "\n",
        "Let's see what a scatter plot looks like, comparing actuals to predicted."
      ]
    },
    {
      "metadata": {
        "run_control": {
          "frozen": false,
          "read_only": false
        },
        "id": "xVslGdpelUo8",
        "colab_type": "code",
        "colab": {
          "base_uri": "https://localhost:8080/",
          "height": 282
        },
        "outputId": "0cfd0505-fe7c-4641-afc8-cb36fc5575f9"
      },
      "cell_type": "code",
      "source": [
        "plt.scatter(Y, svr.predict(X))"
      ],
      "execution_count": 12,
      "outputs": [
        {
          "output_type": "execute_result",
          "data": {
            "text/plain": [
              "<matplotlib.collections.PathCollection at 0x7f9ac3647cc0>"
            ]
          },
          "metadata": {
            "tags": []
          },
          "execution_count": 12
        },
        {
          "output_type": "display_data",
          "data": {
            "image/png": "[encoded data removed]",
            "text/plain": [
              "<matplotlib.figure.Figure at 0x7f9ac380dba8>"
            ]
          },
          "metadata": {
            "tags": []
          }
        }
      ]
    },
    {
      "metadata": {
        "run_control": {
          "frozen": false,
          "read_only": false
        },
        "id": "z7rkcUYblUpB",
        "colab_type": "text"
      },
      "cell_type": "markdown",
      "source": [
        "Now that is a pretty useless visualization. This is because of the discontinous nature of our outcome variable. There's too much data for us to really see what's going on here. If you wanted to look at it you could create histograms, here we'll move on to the scores of both our full fit model and with cross validation. Again if you choose to run it again it will take some time, so you probably shouldn't."
      ]
    },
    {
      "metadata": {
        "run_control": {
          "frozen": false,
          "read_only": false
        },
        "id": "dVbaqyBylUpD",
        "colab_type": "code",
        "colab": {}
      },
      "cell_type": "code",
      "source": [
        "#svr.score(X, Y)"
      ],
      "execution_count": 0,
      "outputs": []
    },
    {
      "metadata": {
        "run_control": {
          "frozen": false,
          "read_only": false
        },
        "id": "zDhyZu1DlUpH",
        "colab_type": "code",
        "colab": {}
      },
      "cell_type": "code",
      "source": [
        "#from sklearn.model_selection import cross_val_score\n",
        "#cross_val_score(svr, X, Y, cv=5)"
      ],
      "execution_count": 0,
      "outputs": []
    },
    {
      "metadata": {
        "run_control": {
          "frozen": false,
          "read_only": false
        },
        "id": "ai_AqiprlUpN",
        "colab_type": "text"
      },
      "cell_type": "markdown",
      "source": [
        "Oh dear, so this did seem not to work very well. In fact it is remarkably poor. Now there are many things that we could do here. \n",
        "\n",
        "Firstly the overfit is a problem, even though it was poor in the first place. We could go back and clean up our feature set. There might be some gains to be made by getting rid of the noise.\n",
        "\n",
        "We could also see how removing the nulls but including dietary information performs. Though its a slight change to the question we could still possibly get some improvements there.\n",
        "\n",
        "Lastly, we could take our regression problem and turn it into a classifier. With this number of features and a discontinuous outcome, we might have better luck thinking of this as a classification problem. We could make it simpler still by instead of classifying on each possible value, group reviews to some decided high and low values.\n",
        "\n",
        "__And that is your challenge.__\n",
        "\n",
        "Transform this regression problem into a binary classifier and clean up the feature set. You can choose whether or not to include nutritional information, but try to cut your feature set down to the 30 most valuable features.\n",
        "\n",
        "Good luck!"
      ]
    },
    {
      "metadata": {
        "run_control": {
          "frozen": false,
          "read_only": false
        },
        "id": "OSB9VagZlUpP",
        "colab_type": "text"
      },
      "cell_type": "markdown",
      "source": [
        "When you've finished that, also take a moment to think about bias. Is there anything in this dataset that makes you think it could be biased, perhaps extremely so?\n",
        "\n",
        "There is. Several things in fact, but most glaringly is that we don't actually have a random sample. It could be, and probably is, that the people more likely to choose some kinds of recipes are more likely to give high reviews.\n",
        "\n",
        "After all, people who eat chocolate _might_ just be happier people."
      ]
    },
    {
      "metadata": {
        "id": "dl7-oRi6kBA4",
        "colab_type": "code",
        "colab": {
          "base_uri": "https://localhost:8080/",
          "height": 170
        },
        "outputId": "ec23cee5-4d0b-4ef7-80c5-9591cc654ae5"
      },
      "cell_type": "code",
      "source": [
        "Y.describe()"
      ],
      "execution_count": 15,
      "outputs": [
        {
          "output_type": "execute_result",
          "data": {
            "text/plain": [
              "count    20052.000000\n",
              "mean         3.714467\n",
              "std          1.340829\n",
              "min          0.000000\n",
              "25%          3.750000\n",
              "50%          4.375000\n",
              "75%          4.375000\n",
              "max          5.000000\n",
              "Name: rating, dtype: float64"
            ]
          },
          "metadata": {
            "tags": []
          },
          "execution_count": 15
        }
      ]
    },
    {
      "metadata": {
        "id": "7wLguWVOmlJs",
        "colab_type": "code",
        "colab": {}
      },
      "cell_type": "code",
      "source": [
        "#def reject_outliers(data):\n",
        "    #u = np.mean(data)\n",
        "    #s = np.std(data)\n",
        "    #data_filtered = data[(data > u-2*s) & (data < u+2*s)]\n",
        "    #return data_filtered\n",
        "  \n",
        "#y = reject_outliers(Y)\n",
        "#y.describe()"
      ],
      "execution_count": 0,
      "outputs": []
    },
    {
      "metadata": {
        "id": "3b_U0sGrkeyx",
        "colab_type": "code",
        "colab": {
          "base_uri": "https://localhost:8080/",
          "height": 389
        },
        "outputId": "1695ce45-014b-4dda-e1aa-490ec99b9713"
      },
      "cell_type": "code",
      "source": [
        "plt.figure(figsize = (8, 6))\n",
        "plt.ylabel('Rating')\n",
        "plt.title('Recipe Ratings Boxplot')\n",
        "plt.boxplot(Y, sym=\"k.\")\n",
        "plt.show()"
      ],
      "execution_count": 18,
      "outputs": [
        {
          "output_type": "display_data",
          "data": {
            "image/png": "[encoded data removed]",
            "text/plain": [
              "<matplotlib.figure.Figure at 0x7f9ac0dc01d0>"
            ]
          },
          "metadata": {
            "tags": []
          }
        }
      ]
    },
    {
      "metadata": {
        "id": "DHsWVuQak4xE",
        "colab_type": "code",
        "colab": {
          "base_uri": "https://localhost:8080/",
          "height": 294
        },
        "outputId": "bb1cbea9-925b-4485-cceb-5447ba7d1cba"
      },
      "cell_type": "code",
      "source": [
        "plt.hist(Y)\n",
        "plt.ylabel('Count')\n",
        "plt.xlabel('Rating')\n",
        "plt.title('Distribution of Recipe Ratings')\n",
        "plt.show()"
      ],
      "execution_count": 19,
      "outputs": [
        {
          "output_type": "display_data",
          "data": {
            "image/png": "[encoded data removed]",
            "text/plain": [
              "<matplotlib.figure.Figure at 0x7f9ac0d84e10>"
            ]
          },
          "metadata": {
            "tags": []
          }
        }
      ]
    },
    {
      "metadata": {
        "id": "nLaNyNYdnDZZ",
        "colab_type": "code",
        "colab": {
          "base_uri": "https://localhost:8080/",
          "height": 267
        },
        "outputId": "a2b2fd7f-c719-4dcb-9834-49b875ef8457"
      },
      "cell_type": "code",
      "source": [
        "raw_data['yBinary'] = np.where(Y >= 4, 1, 0)\n",
        "raw_data.head()"
      ],
      "execution_count": 25,
      "outputs": [
        {
          "output_type": "execute_result",
          "data": {
            "text/html": [
              "<div>\n",
              "<style scoped>\n",
              "    .dataframe tbody tr th:only-of-type {\n",
              "        vertical-align: middle;\n",
              "    }\n",
              "\n",
              "    .dataframe tbody tr th {\n",
              "        vertical-align: top;\n",
              "    }\n",
              "\n",
              "    .dataframe thead th {\n",
              "        text-align: right;\n",
              "    }\n",
              "</style>\n",
              "<table border=\"1\" class=\"dataframe\">\n",
              "  <thead>\n",
              "    <tr style=\"text-align: right;\">\n",
              "      <th></th>\n",
              "      <th>title</th>\n",
              "      <th>rating</th>\n",
              "      <th>calories</th>\n",
              "      <th>protein</th>\n",
              "      <th>fat</th>\n",
              "      <th>sodium</th>\n",
              "      <th>#cakeweek</th>\n",
              "      <th>#wasteless</th>\n",
              "      <th>22-minute meals</th>\n",
              "      <th>3-ingredient recipes</th>\n",
              "      <th>...</th>\n",
              "      <th>yogurt</th>\n",
              "      <th>yonkers</th>\n",
              "      <th>yuca</th>\n",
              "      <th>zucchini</th>\n",
              "      <th>cookbooks</th>\n",
              "      <th>leftovers</th>\n",
              "      <th>snack</th>\n",
              "      <th>snack week</th>\n",
              "      <th>turkey</th>\n",
              "      <th>yBinary</th>\n",
              "    </tr>\n",
              "  </thead>\n",
              "  <tbody>\n",
              "    <tr>\n",
              "      <th>0</th>\n",
              "      <td>Lentil, Apple, and Turkey Wrap</td>\n",
              "      <td>2.500</td>\n",
              "      <td>426.0</td>\n",
              "      <td>30.0</td>\n",
              "      <td>7.0</td>\n",
              "      <td>559.0</td>\n",
              "      <td>0.0</td>\n",
              "      <td>0.0</td>\n",
              "      <td>0.0</td>\n",
              "      <td>0.0</td>\n",
              "      <td>...</td>\n",
              "      <td>0.0</td>\n",
              "      <td>0.0</td>\n",
              "      <td>0.0</td>\n",
              "      <td>0.0</td>\n",
              "      <td>0.0</td>\n",
              "      <td>0.0</td>\n",
              "      <td>0.0</td>\n",
              "      <td>0.0</td>\n",
              "      <td>1.0</td>\n",
              "      <td>0</td>\n",
              "    </tr>\n",
              "    <tr>\n",
              "      <th>1</th>\n",
              "      <td>Boudin Blanc Terrine with Red Onion Confit</td>\n",
              "      <td>4.375</td>\n",
              "      <td>403.0</td>\n",
              "      <td>18.0</td>\n",
              "      <td>23.0</td>\n",
              "      <td>1439.0</td>\n",
              "      <td>0.0</td>\n",
              "      <td>0.0</td>\n",
              "      <td>0.0</td>\n",
              "      <td>0.0</td>\n",
              "      <td>...</td>\n",
              "      <td>0.0</td>\n",
              "      <td>0.0</td>\n",
              "      <td>0.0</td>\n",
              "      <td>0.0</td>\n",
              "      <td>0.0</td>\n",
              "      <td>0.0</td>\n",
              "      <td>0.0</td>\n",
              "      <td>0.0</td>\n",
              "      <td>0.0</td>\n",
              "      <td>1</td>\n",
              "    </tr>\n",
              "    <tr>\n",
              "      <th>2</th>\n",
              "      <td>Potato and Fennel Soup Hodge</td>\n",
              "      <td>3.750</td>\n",
              "      <td>165.0</td>\n",
              "      <td>6.0</td>\n",
              "      <td>7.0</td>\n",
              "      <td>165.0</td>\n",
              "      <td>0.0</td>\n",
              "      <td>0.0</td>\n",
              "      <td>0.0</td>\n",
              "      <td>0.0</td>\n",
              "      <td>...</td>\n",
              "      <td>0.0</td>\n",
              "      <td>0.0</td>\n",
              "      <td>0.0</td>\n",
              "      <td>0.0</td>\n",
              "      <td>0.0</td>\n",
              "      <td>0.0</td>\n",
              "      <td>0.0</td>\n",
              "      <td>0.0</td>\n",
              "      <td>0.0</td>\n",
              "      <td>0</td>\n",
              "    </tr>\n",
              "    <tr>\n",
              "      <th>3</th>\n",
              "      <td>Mahi-Mahi in Tomato Olive Sauce</td>\n",
              "      <td>5.000</td>\n",
              "      <td>NaN</td>\n",
              "      <td>NaN</td>\n",
              "      <td>NaN</td>\n",
              "      <td>NaN</td>\n",
              "      <td>0.0</td>\n",
              "      <td>0.0</td>\n",
              "      <td>0.0</td>\n",
              "      <td>0.0</td>\n",
              "      <td>...</td>\n",
              "      <td>0.0</td>\n",
              "      <td>0.0</td>\n",
              "      <td>0.0</td>\n",
              "      <td>0.0</td>\n",
              "      <td>0.0</td>\n",
              "      <td>0.0</td>\n",
              "      <td>0.0</td>\n",
              "      <td>0.0</td>\n",
              "      <td>0.0</td>\n",
              "      <td>1</td>\n",
              "    </tr>\n",
              "    <tr>\n",
              "      <th>4</th>\n",
              "      <td>Spinach Noodle Casserole</td>\n",
              "      <td>3.125</td>\n",
              "      <td>547.0</td>\n",
              "      <td>20.0</td>\n",
              "      <td>32.0</td>\n",
              "      <td>452.0</td>\n",
              "      <td>0.0</td>\n",
              "      <td>0.0</td>\n",
              "      <td>0.0</td>\n",
              "      <td>0.0</td>\n",
              "      <td>...</td>\n",
              "      <td>0.0</td>\n",
              "      <td>0.0</td>\n",
              "      <td>0.0</td>\n",
              "      <td>0.0</td>\n",
              "      <td>0.0</td>\n",
              "      <td>0.0</td>\n",
              "      <td>0.0</td>\n",
              "      <td>0.0</td>\n",
              "      <td>0.0</td>\n",
              "      <td>0</td>\n",
              "    </tr>\n",
              "  </tbody>\n",
              "</table>\n",
              "<p>5 rows × 681 columns</p>\n",
              "</div>"
            ],
            "text/plain": [
              "                                         title  rating  calories  protein  \\\n",
              "0              Lentil, Apple, and Turkey Wrap    2.500     426.0     30.0   \n",
              "1  Boudin Blanc Terrine with Red Onion Confit    4.375     403.0     18.0   \n",
              "2                Potato and Fennel Soup Hodge    3.750     165.0      6.0   \n",
              "3             Mahi-Mahi in Tomato Olive Sauce    5.000       NaN      NaN   \n",
              "4                    Spinach Noodle Casserole    3.125     547.0     20.0   \n",
              "\n",
              "    fat  sodium  #cakeweek  #wasteless  22-minute meals  3-ingredient recipes  \\\n",
              "0   7.0   559.0        0.0         0.0              0.0                   0.0   \n",
              "1  23.0  1439.0        0.0         0.0              0.0                   0.0   \n",
              "2   7.0   165.0        0.0         0.0              0.0                   0.0   \n",
              "3   NaN     NaN        0.0         0.0              0.0                   0.0   \n",
              "4  32.0   452.0        0.0         0.0              0.0                   0.0   \n",
              "\n",
              "    ...     yogurt  yonkers  yuca  zucchini  cookbooks  leftovers  snack  \\\n",
              "0   ...        0.0      0.0   0.0       0.0        0.0        0.0    0.0   \n",
              "1   ...        0.0      0.0   0.0       0.0        0.0        0.0    0.0   \n",
              "2   ...        0.0      0.0   0.0       0.0        0.0        0.0    0.0   \n",
              "3   ...        0.0      0.0   0.0       0.0        0.0        0.0    0.0   \n",
              "4   ...        0.0      0.0   0.0       0.0        0.0        0.0    0.0   \n",
              "\n",
              "   snack week  turkey  yBinary  \n",
              "0         0.0     1.0        0  \n",
              "1         0.0     0.0        1  \n",
              "2         0.0     0.0        0  \n",
              "3         0.0     0.0        1  \n",
              "4         0.0     0.0        0  \n",
              "\n",
              "[5 rows x 681 columns]"
            ]
          },
          "metadata": {
            "tags": []
          },
          "execution_count": 25
        }
      ]
    },
    {
      "metadata": {
        "id": "LASHv8EVWL-S",
        "colab_type": "code",
        "colab": {
          "base_uri": "https://localhost:8080/",
          "height": 34
        },
        "outputId": "80c9ac3d-f2a5-4f9d-c4d5-7bfd55f34e20"
      },
      "cell_type": "code",
      "source": [
        "from sklearn.preprocessing import StandardScaler\n",
        "from sklearn.decomposition import PCA\n",
        "\n",
        "#for i in X.columns:\n",
        "  #X[col] = pd.to_numeric(X[col], errors='coerce')\n",
        "\n",
        "# impute 0 to nans\n",
        "X.fillna(value=0, inplace= True)\n",
        "X_normalized = StandardScaler().fit(X).transform(X)\n",
        "\n",
        "pca = PCA(n_components = 30).fit(X_normalized)\n",
        "\n",
        "X_pca = pca.transform(X_normalized)\n",
        "\n",
        "print(yBinary.shape, X_pca.shape)"
      ],
      "execution_count": 26,
      "outputs": [
        {
          "output_type": "stream",
          "text": [
            "(20052,) (20052, 30)\n"
          ],
          "name": "stdout"
        }
      ]
    },
    {
      "metadata": {
        "id": "K9W4GmkmfxB3",
        "colab_type": "code",
        "colab": {
          "base_uri": "https://localhost:8080/",
          "height": 233
        },
        "outputId": "79259cfa-eac7-4dcd-c6fe-d352f884521e"
      },
      "cell_type": "code",
      "source": [
        "X_pca_df = pd.DataFrame(data = X_pca\n",
        "             , columns = ['PC1', 'PC2', 'PC3', 'PC4', 'PC5', 'PC6', 'PC7', 'PC8', 'PC9', 'PC10', \n",
        "                          'PC11','PC12', 'PC13', 'PC14', 'PC15', 'PC16', 'PC17', 'PC18', 'PC19', 'PC20',\n",
        "                          'PC21','PC22', 'PC23', 'PC24', 'PC25', 'PC26', 'PC27', 'PC28', 'PC29', 'PC30'])\n",
        "\n",
        "finalDf = pd.concat([X_pca_df, raw_data[['yBinary']]], axis = 1)\n",
        "finalDf.head()"
      ],
      "execution_count": 27,
      "outputs": [
        {
          "output_type": "execute_result",
          "data": {
            "text/html": [
              "<div>\n",
              "<style scoped>\n",
              "    .dataframe tbody tr th:only-of-type {\n",
              "        vertical-align: middle;\n",
              "    }\n",
              "\n",
              "    .dataframe tbody tr th {\n",
              "        vertical-align: top;\n",
              "    }\n",
              "\n",
              "    .dataframe thead th {\n",
              "        text-align: right;\n",
              "    }\n",
              "</style>\n",
              "<table border=\"1\" class=\"dataframe\">\n",
              "  <thead>\n",
              "    <tr style=\"text-align: right;\">\n",
              "      <th></th>\n",
              "      <th>PC1</th>\n",
              "      <th>PC2</th>\n",
              "      <th>PC3</th>\n",
              "      <th>PC4</th>\n",
              "      <th>PC5</th>\n",
              "      <th>PC6</th>\n",
              "      <th>PC7</th>\n",
              "      <th>PC8</th>\n",
              "      <th>PC9</th>\n",
              "      <th>PC10</th>\n",
              "      <th>...</th>\n",
              "      <th>PC22</th>\n",
              "      <th>PC23</th>\n",
              "      <th>PC24</th>\n",
              "      <th>PC25</th>\n",
              "      <th>PC26</th>\n",
              "      <th>PC27</th>\n",
              "      <th>PC28</th>\n",
              "      <th>PC29</th>\n",
              "      <th>PC30</th>\n",
              "      <th>yBinary</th>\n",
              "    </tr>\n",
              "  </thead>\n",
              "  <tbody>\n",
              "    <tr>\n",
              "      <th>0</th>\n",
              "      <td>1.731173</td>\n",
              "      <td>-1.707775</td>\n",
              "      <td>-1.195133</td>\n",
              "      <td>0.183314</td>\n",
              "      <td>-0.003874</td>\n",
              "      <td>0.663611</td>\n",
              "      <td>-2.749423</td>\n",
              "      <td>0.641728</td>\n",
              "      <td>-0.319437</td>\n",
              "      <td>-1.235892</td>\n",
              "      <td>...</td>\n",
              "      <td>0.663590</td>\n",
              "      <td>1.164639</td>\n",
              "      <td>0.208173</td>\n",
              "      <td>1.355973</td>\n",
              "      <td>2.030066</td>\n",
              "      <td>-0.348395</td>\n",
              "      <td>-3.033846</td>\n",
              "      <td>-0.268363</td>\n",
              "      <td>-0.411131</td>\n",
              "      <td>0</td>\n",
              "    </tr>\n",
              "    <tr>\n",
              "      <th>1</th>\n",
              "      <td>2.335024</td>\n",
              "      <td>1.092954</td>\n",
              "      <td>-1.340097</td>\n",
              "      <td>-2.305994</td>\n",
              "      <td>0.847838</td>\n",
              "      <td>-1.255660</td>\n",
              "      <td>0.045182</td>\n",
              "      <td>-1.263673</td>\n",
              "      <td>1.932993</td>\n",
              "      <td>1.220229</td>\n",
              "      <td>...</td>\n",
              "      <td>0.906626</td>\n",
              "      <td>0.455500</td>\n",
              "      <td>0.520665</td>\n",
              "      <td>-0.142882</td>\n",
              "      <td>-0.767698</td>\n",
              "      <td>1.580383</td>\n",
              "      <td>1.474765</td>\n",
              "      <td>-1.097557</td>\n",
              "      <td>-1.942242</td>\n",
              "      <td>1</td>\n",
              "    </tr>\n",
              "    <tr>\n",
              "      <th>2</th>\n",
              "      <td>1.910810</td>\n",
              "      <td>-1.246034</td>\n",
              "      <td>-1.004725</td>\n",
              "      <td>-0.871451</td>\n",
              "      <td>-0.414028</td>\n",
              "      <td>1.258389</td>\n",
              "      <td>0.811024</td>\n",
              "      <td>-0.391838</td>\n",
              "      <td>0.153031</td>\n",
              "      <td>-1.884743</td>\n",
              "      <td>...</td>\n",
              "      <td>-0.610103</td>\n",
              "      <td>0.392924</td>\n",
              "      <td>-0.225820</td>\n",
              "      <td>-0.349112</td>\n",
              "      <td>0.280029</td>\n",
              "      <td>0.646585</td>\n",
              "      <td>-0.794669</td>\n",
              "      <td>0.200909</td>\n",
              "      <td>-1.695568</td>\n",
              "      <td>0</td>\n",
              "    </tr>\n",
              "    <tr>\n",
              "      <th>3</th>\n",
              "      <td>-2.473961</td>\n",
              "      <td>-2.392172</td>\n",
              "      <td>1.561166</td>\n",
              "      <td>-0.061563</td>\n",
              "      <td>-0.554676</td>\n",
              "      <td>-0.757329</td>\n",
              "      <td>0.007696</td>\n",
              "      <td>3.132256</td>\n",
              "      <td>2.443742</td>\n",
              "      <td>-1.704439</td>\n",
              "      <td>...</td>\n",
              "      <td>2.381187</td>\n",
              "      <td>0.945573</td>\n",
              "      <td>0.224536</td>\n",
              "      <td>0.839234</td>\n",
              "      <td>0.436258</td>\n",
              "      <td>0.318418</td>\n",
              "      <td>-0.075357</td>\n",
              "      <td>-1.155195</td>\n",
              "      <td>0.861026</td>\n",
              "      <td>1</td>\n",
              "    </tr>\n",
              "    <tr>\n",
              "      <th>4</th>\n",
              "      <td>0.683531</td>\n",
              "      <td>-0.683500</td>\n",
              "      <td>-1.872720</td>\n",
              "      <td>-1.180300</td>\n",
              "      <td>-0.225288</td>\n",
              "      <td>2.018308</td>\n",
              "      <td>-1.723294</td>\n",
              "      <td>-0.539497</td>\n",
              "      <td>0.248282</td>\n",
              "      <td>-1.405889</td>\n",
              "      <td>...</td>\n",
              "      <td>-0.597208</td>\n",
              "      <td>-0.344413</td>\n",
              "      <td>-1.640354</td>\n",
              "      <td>-1.302131</td>\n",
              "      <td>-0.628529</td>\n",
              "      <td>1.005908</td>\n",
              "      <td>1.089195</td>\n",
              "      <td>-0.271837</td>\n",
              "      <td>0.026871</td>\n",
              "      <td>0</td>\n",
              "    </tr>\n",
              "  </tbody>\n",
              "</table>\n",
              "<p>5 rows × 31 columns</p>\n",
              "</div>"
            ],
            "text/plain": [
              "        PC1       PC2       PC3       PC4       PC5       PC6       PC7  \\\n",
              "0  1.731173 -1.707775 -1.195133  0.183314 -0.003874  0.663611 -2.749423   \n",
              "1  2.335024  1.092954 -1.340097 -2.305994  0.847838 -1.255660  0.045182   \n",
              "2  1.910810 -1.246034 -1.004725 -0.871451 -0.414028  1.258389  0.811024   \n",
              "3 -2.473961 -2.392172  1.561166 -0.061563 -0.554676 -0.757329  0.007696   \n",
              "4  0.683531 -0.683500 -1.872720 -1.180300 -0.225288  2.018308 -1.723294   \n",
              "\n",
              "        PC8       PC9      PC10   ...         PC22      PC23      PC24  \\\n",
              "0  0.641728 -0.319437 -1.235892   ...     0.663590  1.164639  0.208173   \n",
              "1 -1.263673  1.932993  1.220229   ...     0.906626  0.455500  0.520665   \n",
              "2 -0.391838  0.153031 -1.884743   ...    -0.610103  0.392924 -0.225820   \n",
              "3  3.132256  2.443742 -1.704439   ...     2.381187  0.945573  0.224536   \n",
              "4 -0.539497  0.248282 -1.405889   ...    -0.597208 -0.344413 -1.640354   \n",
              "\n",
              "       PC25      PC26      PC27      PC28      PC29      PC30  yBinary  \n",
              "0  1.355973  2.030066 -0.348395 -3.033846 -0.268363 -0.411131        0  \n",
              "1 -0.142882 -0.767698  1.580383  1.474765 -1.097557 -1.942242        1  \n",
              "2 -0.349112  0.280029  0.646585 -0.794669  0.200909 -1.695568        0  \n",
              "3  0.839234  0.436258  0.318418 -0.075357 -1.155195  0.861026        1  \n",
              "4 -1.302131 -0.628529  1.005908  1.089195 -0.271837  0.026871        0  \n",
              "\n",
              "[5 rows x 31 columns]"
            ]
          },
          "metadata": {
            "tags": []
          },
          "execution_count": 27
        }
      ]
    },
    {
      "metadata": {
        "id": "82QPSuw_glht",
        "colab_type": "code",
        "colab": {
          "base_uri": "https://localhost:8080/",
          "height": 51
        },
        "outputId": "0e19e42f-c36e-459b-f9fa-62e7c7fbb972"
      },
      "cell_type": "code",
      "source": [
        "svr.fit(X_pca_df,yBinary)"
      ],
      "execution_count": 28,
      "outputs": [
        {
          "output_type": "execute_result",
          "data": {
            "text/plain": [
              "SVR(C=1.0, cache_size=200, coef0=0.0, degree=3, epsilon=0.1, gamma='auto',\n",
              "  kernel='rbf', max_iter=-1, shrinking=True, tol=0.001, verbose=False)"
            ]
          },
          "metadata": {
            "tags": []
          },
          "execution_count": 28
        }
      ]
    },
    {
      "metadata": {
        "id": "BTVtzwBvgLCD",
        "colab_type": "code",
        "colab": {
          "base_uri": "https://localhost:8080/",
          "height": 34
        },
        "outputId": "520ff08a-daf4-41f6-f194-258b7a6555d1"
      },
      "cell_type": "code",
      "source": [
        "svr.score(X_pca_df, yBinary)"
      ],
      "execution_count": 29,
      "outputs": [
        {
          "output_type": "execute_result",
          "data": {
            "text/plain": [
              "0.5084965838000984"
            ]
          },
          "metadata": {
            "tags": []
          },
          "execution_count": 29
        }
      ]
    }
  ]
}