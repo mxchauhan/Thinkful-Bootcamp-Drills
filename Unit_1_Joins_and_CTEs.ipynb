{
  "nbformat": 4,
  "nbformat_minor": 0,
  "metadata": {
    "colab": {
      "name": "Unit 1 - Joins and CTEs.ipynb",
      "version": "0.3.2",
      "provenance": [],
      "include_colab_link": true
    },
    "kernelspec": {
      "name": "python3",
      "display_name": "Python 3"
    }
  },
  "cells": [
    {
      "cell_type": "markdown",
      "metadata": {
        "id": "view-in-github",
        "colab_type": "text"
      },
      "source": [
        "[View in Colaboratory](https://colab.research.google.com/github/mxchauhan/Thinkful-Bootcamp-Drills/blob/master/Unit_1_Joins_and_CTEs.ipynb)"
      ]
    },
    {
      "metadata": {
        "id": "YMXgZXWFgjzL",
        "colab_type": "text"
      },
      "cell_type": "markdown",
      "source": [
        "**QUESTION 1: What are the three longest trips on rainy days?**"
      ]
    },
    {
      "metadata": {
        "id": "EUoRqsIFgrva",
        "colab_type": "code",
        "colab": {}
      },
      "cell_type": "code",
      "source": [
        "WITH\n",
        "\trainydays\n",
        "AS (\n",
        "\tSELECT\n",
        "\t\tDate,\n",
        "\t\tEvents\n",
        "\tFROM\n",
        "\t\tweather\n",
        "\tWHERE\n",
        "\t\tEvents LIKE 'Rain'\n",
        "\tGROUP BY 1\n",
        ")\n",
        "\n",
        "SELECT\n",
        "\ttrip_id,\n",
        "\tduration,\n",
        "\tDATE(start_date) AS trip_date\n",
        "FROM\n",
        "\ttrips\n",
        "JOIN\n",
        "\trainydays\n",
        "ON\n",
        "\ttrip_date = rainydays.date\n",
        "ORDER BY duration DESC\n",
        "LIMIT 3"
      ],
      "execution_count": 0,
      "outputs": []
    },
    {
      "metadata": {
        "id": "oymvroIjh4_s",
        "colab_type": "text"
      },
      "cell_type": "markdown",
      "source": [
        "**QUESTION 2: Which station is full most often?**"
      ]
    },
    {
      "metadata": {
        "id": "wn310VTnh9R7",
        "colab_type": "code",
        "colab": {}
      },
      "cell_type": "code",
      "source": [
        "WITH\n",
        "\tfull_station\n",
        "AS (\n",
        "\tSELECT\n",
        "\t\tstatus.station_id AS full_station_id,\n",
        "\t\tCount(*) as full_total\n",
        "\tFROM\n",
        "\t\tstatus\n",
        "\tWHERE\n",
        "\t\tdocks_available = 0\n",
        "\tGROUP BY 1\n",
        ")\n",
        "\n",
        "SELECT\n",
        "\tstations.name,\n",
        "\tmax(full_total)\n",
        "FROM\n",
        "\tstations\n",
        "JOIN\n",
        "\tfull_station\n",
        "ON\n",
        "\tfull_station_id = stations.station_id"
      ],
      "execution_count": 0,
      "outputs": []
    },
    {
      "metadata": {
        "id": "9iEM_cVliByl",
        "colab_type": "text"
      },
      "cell_type": "markdown",
      "source": [
        "**QUESTION 3: Return a list of stations with a count of number of trips starting at that station but ordered by dock count.**"
      ]
    },
    {
      "metadata": {
        "id": "yO7SyfMEiGKr",
        "colab_type": "code",
        "colab": {}
      },
      "cell_type": "code",
      "source": [
        "SELECT\n",
        "\tstart_station,\n",
        "\tdockcount,\n",
        "\tCount(*) numoftrips\n",
        "FROM\n",
        "\ttrips\n",
        "JOIN\n",
        "\tstations\n",
        "ON\n",
        "\tstations.name = trips.start_station\n",
        "GROUP BY 1\n",
        "ORDER BY dockcount DESC"
      ],
      "execution_count": 0,
      "outputs": []
    }
  ]
}